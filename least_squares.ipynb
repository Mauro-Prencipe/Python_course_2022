{
 "cells": [
  {
   "cell_type": "markdown",
   "id": "a50b43c0",
   "metadata": {},
   "source": [
    "### Richter law: an easy example of numpy *polyfit*"
   ]
  },
  {
   "cell_type": "code",
   "execution_count": 2,
   "id": "5f585b66",
   "metadata": {},
   "outputs": [],
   "source": [
    "import pandas as pd  # import the Pandas library with the alias 'pd'\n",
    "import numpy as np\n",
    "import matplotlib.pyplot as plt"
   ]
  },
  {
   "cell_type": "markdown",
   "id": "af6bb16a",
   "metadata": {},
   "source": [
    "Seismic data (INGV) concerning a circular area around Catania (radius: 100 km), in the last 5 years.  "
   ]
  },
  {
   "cell_type": "code",
   "execution_count": 3,
   "id": "45839d3a",
   "metadata": {},
   "outputs": [
    {
     "data": {
      "text/html": [
       "<div>\n",
       "<style scoped>\n",
       "    .dataframe tbody tr th:only-of-type {\n",
       "        vertical-align: middle;\n",
       "    }\n",
       "\n",
       "    .dataframe tbody tr th {\n",
       "        vertical-align: top;\n",
       "    }\n",
       "\n",
       "    .dataframe thead th {\n",
       "        text-align: right;\n",
       "    }\n",
       "</style>\n",
       "<table border=\"1\" class=\"dataframe\">\n",
       "  <thead>\n",
       "    <tr style=\"text-align: right;\">\n",
       "      <th></th>\n",
       "      <th>#EventID</th>\n",
       "      <th>Latitude</th>\n",
       "      <th>Longitude</th>\n",
       "      <th>Depth/Km</th>\n",
       "      <th>Catalog</th>\n",
       "      <th>Contributor</th>\n",
       "      <th>ContributorID</th>\n",
       "      <th>Magnitude</th>\n",
       "    </tr>\n",
       "  </thead>\n",
       "  <tbody>\n",
       "    <tr>\n",
       "      <th>count</th>\n",
       "      <td>7.262000e+03</td>\n",
       "      <td>7262.000000</td>\n",
       "      <td>7262.000000</td>\n",
       "      <td>7262.000000</td>\n",
       "      <td>0.0</td>\n",
       "      <td>0.0</td>\n",
       "      <td>0.0</td>\n",
       "      <td>7262.000000</td>\n",
       "    </tr>\n",
       "    <tr>\n",
       "      <th>mean</th>\n",
       "      <td>2.282544e+07</td>\n",
       "      <td>37.806956</td>\n",
       "      <td>15.020027</td>\n",
       "      <td>15.529221</td>\n",
       "      <td>NaN</td>\n",
       "      <td>NaN</td>\n",
       "      <td>NaN</td>\n",
       "      <td>1.731038</td>\n",
       "    </tr>\n",
       "    <tr>\n",
       "      <th>std</th>\n",
       "      <td>3.771171e+06</td>\n",
       "      <td>0.261716</td>\n",
       "      <td>0.314322</td>\n",
       "      <td>18.918580</td>\n",
       "      <td>NaN</td>\n",
       "      <td>NaN</td>\n",
       "      <td>NaN</td>\n",
       "      <td>0.518574</td>\n",
       "    </tr>\n",
       "    <tr>\n",
       "      <th>min</th>\n",
       "      <td>1.259293e+07</td>\n",
       "      <td>36.612700</td>\n",
       "      <td>14.011700</td>\n",
       "      <td>-0.300000</td>\n",
       "      <td>NaN</td>\n",
       "      <td>NaN</td>\n",
       "      <td>NaN</td>\n",
       "      <td>0.200000</td>\n",
       "    </tr>\n",
       "    <tr>\n",
       "      <th>25%</th>\n",
       "      <td>2.079282e+07</td>\n",
       "      <td>37.714225</td>\n",
       "      <td>14.909400</td>\n",
       "      <td>7.000000</td>\n",
       "      <td>NaN</td>\n",
       "      <td>NaN</td>\n",
       "      <td>NaN</td>\n",
       "      <td>1.400000</td>\n",
       "    </tr>\n",
       "    <tr>\n",
       "      <th>50%</th>\n",
       "      <td>2.320111e+07</td>\n",
       "      <td>37.755000</td>\n",
       "      <td>15.020000</td>\n",
       "      <td>9.900000</td>\n",
       "      <td>NaN</td>\n",
       "      <td>NaN</td>\n",
       "      <td>NaN</td>\n",
       "      <td>1.700000</td>\n",
       "    </tr>\n",
       "    <tr>\n",
       "      <th>75%</th>\n",
       "      <td>2.581441e+07</td>\n",
       "      <td>37.988600</td>\n",
       "      <td>15.126700</td>\n",
       "      <td>20.900000</td>\n",
       "      <td>NaN</td>\n",
       "      <td>NaN</td>\n",
       "      <td>NaN</td>\n",
       "      <td>2.000000</td>\n",
       "    </tr>\n",
       "    <tr>\n",
       "      <th>max</th>\n",
       "      <td>2.948684e+07</td>\n",
       "      <td>38.397000</td>\n",
       "      <td>16.213200</td>\n",
       "      <td>202.600000</td>\n",
       "      <td>NaN</td>\n",
       "      <td>NaN</td>\n",
       "      <td>NaN</td>\n",
       "      <td>4.900000</td>\n",
       "    </tr>\n",
       "  </tbody>\n",
       "</table>\n",
       "</div>"
      ],
      "text/plain": [
       "           #EventID     Latitude    Longitude     Depth/Km  Catalog  \\\n",
       "count  7.262000e+03  7262.000000  7262.000000  7262.000000      0.0   \n",
       "mean   2.282544e+07    37.806956    15.020027    15.529221      NaN   \n",
       "std    3.771171e+06     0.261716     0.314322    18.918580      NaN   \n",
       "min    1.259293e+07    36.612700    14.011700    -0.300000      NaN   \n",
       "25%    2.079282e+07    37.714225    14.909400     7.000000      NaN   \n",
       "50%    2.320111e+07    37.755000    15.020000     9.900000      NaN   \n",
       "75%    2.581441e+07    37.988600    15.126700    20.900000      NaN   \n",
       "max    2.948684e+07    38.397000    16.213200   202.600000      NaN   \n",
       "\n",
       "       Contributor  ContributorID    Magnitude  \n",
       "count          0.0            0.0  7262.000000  \n",
       "mean           NaN            NaN     1.731038  \n",
       "std            NaN            NaN     0.518574  \n",
       "min            NaN            NaN     0.200000  \n",
       "25%            NaN            NaN     1.400000  \n",
       "50%            NaN            NaN     1.700000  \n",
       "75%            NaN            NaN     2.000000  \n",
       "max            NaN            NaN     4.900000  "
      ]
     },
     "execution_count": 3,
     "metadata": {},
     "output_type": "execute_result"
    }
   ],
   "source": [
    "catania=pd.read_csv('data_files/catania_5.dat', sep='|')\n",
    "catania.describe()"
   ]
  },
  {
   "cell_type": "code",
   "execution_count": 4,
   "id": "13921e00",
   "metadata": {},
   "outputs": [
    {
     "data": {
      "text/html": [
       "<div>\n",
       "<style scoped>\n",
       "    .dataframe tbody tr th:only-of-type {\n",
       "        vertical-align: middle;\n",
       "    }\n",
       "\n",
       "    .dataframe tbody tr th {\n",
       "        vertical-align: top;\n",
       "    }\n",
       "\n",
       "    .dataframe thead th {\n",
       "        text-align: right;\n",
       "    }\n",
       "</style>\n",
       "<table border=\"1\" class=\"dataframe\">\n",
       "  <thead>\n",
       "    <tr style=\"text-align: right;\">\n",
       "      <th></th>\n",
       "      <th>#EventID</th>\n",
       "      <th>Time</th>\n",
       "      <th>Latitude</th>\n",
       "      <th>Longitude</th>\n",
       "      <th>Depth/Km</th>\n",
       "      <th>Author</th>\n",
       "      <th>Catalog</th>\n",
       "      <th>Contributor</th>\n",
       "      <th>ContributorID</th>\n",
       "      <th>MagType</th>\n",
       "      <th>Magnitude</th>\n",
       "      <th>MagAuthor</th>\n",
       "      <th>EventLocationName</th>\n",
       "      <th>EventType</th>\n",
       "    </tr>\n",
       "  </thead>\n",
       "  <tbody>\n",
       "    <tr>\n",
       "      <th>0</th>\n",
       "      <td>12592931</td>\n",
       "      <td>2017-01-12T23:33:32.130000</td>\n",
       "      <td>38.1677</td>\n",
       "      <td>15.7337</td>\n",
       "      <td>12.2</td>\n",
       "      <td>BULLETIN-INGV</td>\n",
       "      <td>NaN</td>\n",
       "      <td>NaN</td>\n",
       "      <td>NaN</td>\n",
       "      <td>ML</td>\n",
       "      <td>1.3</td>\n",
       "      <td>--</td>\n",
       "      <td>1 km SW Laganadi (RC)</td>\n",
       "      <td>earthquake</td>\n",
       "    </tr>\n",
       "    <tr>\n",
       "      <th>1</th>\n",
       "      <td>12611381</td>\n",
       "      <td>2017-01-13T16:00:57.190000</td>\n",
       "      <td>37.8542</td>\n",
       "      <td>15.5727</td>\n",
       "      <td>31.6</td>\n",
       "      <td>BULLETIN-INGV</td>\n",
       "      <td>NaN</td>\n",
       "      <td>NaN</td>\n",
       "      <td>NaN</td>\n",
       "      <td>ML</td>\n",
       "      <td>1.9</td>\n",
       "      <td>--</td>\n",
       "      <td>Stretto di Messina (Reggio di Calabria, Messina)</td>\n",
       "      <td>earthquake</td>\n",
       "    </tr>\n",
       "    <tr>\n",
       "      <th>2</th>\n",
       "      <td>12649751</td>\n",
       "      <td>2017-01-15T06:35:42.660000</td>\n",
       "      <td>38.1608</td>\n",
       "      <td>15.7332</td>\n",
       "      <td>12.4</td>\n",
       "      <td>BULLETIN-INGV</td>\n",
       "      <td>NaN</td>\n",
       "      <td>NaN</td>\n",
       "      <td>NaN</td>\n",
       "      <td>ML</td>\n",
       "      <td>1.5</td>\n",
       "      <td>--</td>\n",
       "      <td>2 km SW Laganadi (RC)</td>\n",
       "      <td>earthquake</td>\n",
       "    </tr>\n",
       "    <tr>\n",
       "      <th>3</th>\n",
       "      <td>12653941</td>\n",
       "      <td>2017-01-15T11:43:46.030000</td>\n",
       "      <td>38.1673</td>\n",
       "      <td>15.7302</td>\n",
       "      <td>12.4</td>\n",
       "      <td>BULLETIN-INGV</td>\n",
       "      <td>NaN</td>\n",
       "      <td>NaN</td>\n",
       "      <td>NaN</td>\n",
       "      <td>ML</td>\n",
       "      <td>1.1</td>\n",
       "      <td>--</td>\n",
       "      <td>1 km SW Laganadi (RC)</td>\n",
       "      <td>earthquake</td>\n",
       "    </tr>\n",
       "    <tr>\n",
       "      <th>4</th>\n",
       "      <td>12675381</td>\n",
       "      <td>2017-01-16T15:34:14.520000</td>\n",
       "      <td>38.2543</td>\n",
       "      <td>15.0813</td>\n",
       "      <td>8.9</td>\n",
       "      <td>BULLETIN-INGV</td>\n",
       "      <td>NaN</td>\n",
       "      <td>NaN</td>\n",
       "      <td>NaN</td>\n",
       "      <td>ML</td>\n",
       "      <td>1.8</td>\n",
       "      <td>--</td>\n",
       "      <td>Costa Siciliana nord-orientale (Messina)</td>\n",
       "      <td>earthquake</td>\n",
       "    </tr>\n",
       "  </tbody>\n",
       "</table>\n",
       "</div>"
      ],
      "text/plain": [
       "   #EventID                        Time  Latitude  Longitude  Depth/Km  \\\n",
       "0  12592931  2017-01-12T23:33:32.130000   38.1677    15.7337      12.2   \n",
       "1  12611381  2017-01-13T16:00:57.190000   37.8542    15.5727      31.6   \n",
       "2  12649751  2017-01-15T06:35:42.660000   38.1608    15.7332      12.4   \n",
       "3  12653941  2017-01-15T11:43:46.030000   38.1673    15.7302      12.4   \n",
       "4  12675381  2017-01-16T15:34:14.520000   38.2543    15.0813       8.9   \n",
       "\n",
       "          Author  Catalog  Contributor  ContributorID MagType  Magnitude  \\\n",
       "0  BULLETIN-INGV      NaN          NaN            NaN      ML        1.3   \n",
       "1  BULLETIN-INGV      NaN          NaN            NaN      ML        1.9   \n",
       "2  BULLETIN-INGV      NaN          NaN            NaN      ML        1.5   \n",
       "3  BULLETIN-INGV      NaN          NaN            NaN      ML        1.1   \n",
       "4  BULLETIN-INGV      NaN          NaN            NaN      ML        1.8   \n",
       "\n",
       "  MagAuthor                                 EventLocationName   EventType  \n",
       "0        --                             1 km SW Laganadi (RC)  earthquake  \n",
       "1        --  Stretto di Messina (Reggio di Calabria, Messina)  earthquake  \n",
       "2        --                             2 km SW Laganadi (RC)  earthquake  \n",
       "3        --                             1 km SW Laganadi (RC)  earthquake  \n",
       "4        --          Costa Siciliana nord-orientale (Messina)  earthquake  "
      ]
     },
     "execution_count": 4,
     "metadata": {},
     "output_type": "execute_result"
    }
   ],
   "source": [
    "catania.head()"
   ]
  },
  {
   "cell_type": "markdown",
   "id": "e17aa516",
   "metadata": {},
   "source": [
    "Select magnitude and depth of each event and make histograms "
   ]
  },
  {
   "cell_type": "code",
   "execution_count": 5,
   "id": "c5bb5fd1",
   "metadata": {},
   "outputs": [
    {
     "data": {
      "text/plain": [
       "<AxesSubplot:>"
      ]
     },
     "execution_count": 5,
     "metadata": {},
     "output_type": "execute_result"
    },
    {
     "data": {
      "image/png": "[encoded data removed]",
      "text/plain": [
       "<Figure size 432x288 with 1 Axes>"
      ]
     },
     "metadata": {
      "needs_background": "light"
     },
     "output_type": "display_data"
    }
   ],
   "source": [
    "catania_mag=catania['Magnitude']\n",
    "catania_depth=catania['Depth/Km']\n",
    "\n",
    "catania_mag.hist(bins=20)"
   ]
  },
  {
   "cell_type": "code",
   "execution_count": 6,
   "id": "90b88238",
   "metadata": {},
   "outputs": [
    {
     "data": {
      "text/plain": [
       "<AxesSubplot:>"
      ]
     },
     "execution_count": 6,
     "metadata": {},
     "output_type": "execute_result"
    },
    {
     "data": {
      "image/png": "[encoded data removed]",
      "text/plain": [
       "<Figure size 432x288 with 1 Axes>"
      ]
     },
     "metadata": {
      "needs_background": "light"
     },
     "output_type": "display_data"
    }
   ],
   "source": [
    "catania_depth.hist(bins=20)"
   ]
  },
  {
   "cell_type": "markdown",
   "id": "27b1c878",
   "metadata": {},
   "source": [
    "Count the number of event for each value of the magnitude found in the DataSerie:"
   ]
  },
  {
   "cell_type": "code",
   "execution_count": 7,
   "id": "50b2421d",
   "metadata": {},
   "outputs": [],
   "source": [
    "ds=catania['Magnitude'].value_counts()"
   ]
  },
  {
   "cell_type": "code",
   "execution_count": 8,
   "id": "9ec8170d",
   "metadata": {},
   "outputs": [
    {
     "name": "stdout",
     "output_type": "stream",
     "text": [
      "<class 'pandas.core.series.Series'>\n"
     ]
    }
   ],
   "source": [
    "print(type(ds))"
   ]
  },
  {
   "cell_type": "code",
   "execution_count": 9,
   "id": "92afcc3e",
   "metadata": {},
   "outputs": [
    {
     "data": {
      "text/plain": [
       "1.4    585\n",
       "1.7    584\n",
       "1.8    578\n",
       "1.6    578\n",
       "1.5    533\n",
       "Name: Magnitude, dtype: int64"
      ]
     },
     "execution_count": 9,
     "metadata": {},
     "output_type": "execute_result"
    }
   ],
   "source": [
    "ds.head()"
   ]
  },
  {
   "cell_type": "markdown",
   "id": "392ecc25",
   "metadata": {},
   "source": [
    "Transform the DataSerie in two numpy arrays:"
   ]
  },
  {
   "cell_type": "code",
   "execution_count": 10,
   "id": "72232550",
   "metadata": {},
   "outputs": [],
   "source": [
    "mag_count=ds.to_numpy()\n",
    "mag=ds.index.to_numpy()"
   ]
  },
  {
   "cell_type": "markdown",
   "id": "51a7d08d",
   "metadata": {},
   "source": [
    "Select events having magnitudes in the ```[2, 3.5]``` range:"
   ]
  },
  {
   "cell_type": "code",
   "execution_count": 11,
   "id": "758d435a",
   "metadata": {},
   "outputs": [],
   "source": [
    "min_mag=2.\n",
    "max_mag=3.5\n",
    "\n",
    "cases=np.where((mag >= min_mag) & (mag <=max_mag))"
   ]
  },
  {
   "cell_type": "code",
   "execution_count": 12,
   "id": "bf1bf4fd",
   "metadata": {},
   "outputs": [
    {
     "data": {
      "text/plain": [
       "(array([ 8,  9, 11, 12, 14, 15, 17, 18, 20, 21, 22, 24, 25, 26, 27, 29],\n",
       "       dtype=int64),)"
      ]
     },
     "execution_count": 12,
     "metadata": {},
     "output_type": "execute_result"
    }
   ],
   "source": [
    "cases"
   ]
  },
  {
   "cell_type": "markdown",
   "id": "b990ec90",
   "metadata": {},
   "source": [
    "The numpy *where* function finds the indexes of elements, of a given array, that satisfy some condition. Such indexes are stored in the variable *cases* which, in the following is used to create the arrays of magnitudes (*mag_lim*) and of the corresponding number of events (*mag_count*). The variable *log_count* is the array containing the logarithms (base 10) of the number of events:  "
   ]
  },
  {
   "cell_type": "code",
   "execution_count": 13,
   "id": "6b534b71",
   "metadata": {},
   "outputs": [],
   "source": [
    "mag_lim=mag[cases]\n",
    "mag_count_lim=mag_count[cases]\n",
    "log_count=np.log10(mag_count_lim)"
   ]
  },
  {
   "cell_type": "code",
   "execution_count": 14,
   "id": "2066f542",
   "metadata": {},
   "outputs": [
    {
     "name": "stdout",
     "output_type": "stream",
     "text": [
      "[2.  2.1 2.2 2.3 2.4 2.5 2.6 2.7 2.8 2.9 3.  3.1 3.2 3.3 3.4 3.5]\n",
      "[404 358 303 270 169 149 116  88  64  54  42  35  27  20  17   9]\n"
     ]
    }
   ],
   "source": [
    "print(mag_lim)\n",
    "print(mag_count_lim)"
   ]
  },
  {
   "cell_type": "markdown",
   "id": "06e20520",
   "metadata": {},
   "source": [
    "Make a quick plot of magnitude versus log of the number of events"
   ]
  },
  {
   "cell_type": "code",
   "execution_count": 15,
   "id": "b2227520",
   "metadata": {},
   "outputs": [
    {
     "data": {
      "text/plain": [
       "[<matplotlib.lines.Line2D at 0x1a247f12340>]"
      ]
     },
     "execution_count": 15,
     "metadata": {},
     "output_type": "execute_result"
    },
    {
     "data": {
      "image/png": "[encoded data removed]",
      "text/plain": [
       "<Figure size 432x288 with 1 Axes>"
      ]
     },
     "metadata": {
      "needs_background": "light"
     },
     "output_type": "display_data"
    }
   ],
   "source": [
    "plt.plot(mag_lim, log_count, \"*\")"
   ]
  },
  {
   "cell_type": "markdown",
   "id": "71ee8898",
   "metadata": {},
   "source": [
    "Now, we make a ***linear regression*** of the two plotted variables above, by using the numpy function *polyfit*. results from *polyfit* (coefficients of regression) are stored in the array *fit*: "
   ]
  },
  {
   "cell_type": "code",
   "execution_count": 16,
   "id": "25ef9995",
   "metadata": {},
   "outputs": [
    {
     "name": "stdout",
     "output_type": "stream",
     "text": [
      "<class 'numpy.ndarray'> [-1.0682673   4.81936385]\n"
     ]
    }
   ],
   "source": [
    "fit, cov=np.polyfit(mag_lim, log_count, 1, cov=True)\n",
    "\n",
    "print(type(fit), fit)"
   ]
  },
  {
   "cell_type": "code",
   "execution_count": 17,
   "id": "514e98d4",
   "metadata": {},
   "outputs": [
    {
     "name": "stdout",
     "output_type": "stream",
     "text": [
      "[[ 0.00071379 -0.00196293]\n",
      " [-0.00196293  0.00554974]]\n"
     ]
    }
   ],
   "source": [
    "print(cov)"
   ]
  },
  {
   "cell_type": "markdown",
   "id": "fb81a396",
   "metadata": {},
   "source": [
    "Now, we want to check the fit, by plotting the actual data along with the regression line. In principle, since we have to plot a line, two points only would be required; however, to show the general case, \n",
    "\n",
    "- we generate an array of values of the independent values (the magnitude, *mag_plot*) by using the numpy function *linspace* \n",
    "- we use the numpy function *polyval* to compute the corrisponding log of the number of events (from the *fit* polyfit array) "
   ]
  },
  {
   "cell_type": "code",
   "execution_count": 18,
   "id": "47fe1330",
   "metadata": {},
   "outputs": [],
   "source": [
    "npoint=10\n",
    "mag_plot=np.linspace(min_mag, max_mag, npoint)\n",
    "mag_count_plot=np.polyval(fit, mag_plot)"
   ]
  },
  {
   "cell_type": "markdown",
   "id": "122a9f76",
   "metadata": {},
   "source": [
    "Lastly, we generate the plot: "
   ]
  },
  {
   "cell_type": "code",
   "execution_count": 19,
   "id": "cc572ebd",
   "metadata": {},
   "outputs": [
    {
     "data": {
      "image/png": "[encoded data removed]",
      "text/plain": [
       "<Figure size 432x288 with 1 Axes>"
      ]
     },
     "metadata": {
      "needs_background": "light"
     },
     "output_type": "display_data"
    }
   ],
   "source": [
    "plt.figure()\n",
    "plt.plot(mag_plot, mag_count_plot, label=\"Linear regression\")\n",
    "plt.plot(mag_lim, log_count, \"k*\", label=\"Actual values\")\n",
    "plt.xlabel('Magnitude')\n",
    "plt.ylabel('Log count')\n",
    "plt.title('Richter Law')\n",
    "plt.legend(frameon=False)\n",
    "plt.show()"
   ]
  },
  {
   "cell_type": "markdown",
   "id": "8411a223",
   "metadata": {},
   "source": [
    "We could define a function that does all of those operation above... "
   ]
  },
  {
   "cell_type": "code",
   "execution_count": 17,
   "id": "c01a3eab",
   "metadata": {},
   "outputs": [],
   "source": [
    "def richter(datafile, mag_min, mag_max, path='./data_files/', npoint=2):\n",
    "    file=path+datafile\n",
    "    data=pd.read_csv(file, sep='|')\n",
    "    print(data.describe())\n",
    "    mag=data[\"Magnitude\"]\n",
    "    mag.hist(bins=20)\n",
    "    \n",
    "    ds=data['Magnitude'].value_counts()\n",
    "    mag_count=ds.to_numpy()\n",
    "    mag=ds.index.to_numpy()\n",
    "    cases=np.where((mag >= mag_min) & (mag <= mag_max))\n",
    "    mag_lim=mag[cases]\n",
    "    mag_count_lim=mag_count[cases]\n",
    "    log_count=np.log10(mag_count_lim)\n",
    "    \n",
    "    fit=np.polyfit(mag_lim, log_count, 1)\n",
    "    mag_plot=np.linspace(mag_min, mag_max, npoint)\n",
    "    mag_count_plot=np.polyval(fit, mag_plot)\n",
    "    \n",
    "    plt.figure()    \n",
    "    plt.plot(mag_plot, mag_count_plot, label=\"Linear regression\")\n",
    "    plt.plot(mag_lim, log_count, \"k*\", label=\"Actual values\")\n",
    "    plt.xlabel('Magnitude')\n",
    "    plt.ylabel('Log count')\n",
    "    plt.title('Richter Law')\n",
    "    plt.legend(frameon=False)\n",
    "    plt.show()\n",
    "    \n",
    "    print(\"Parameters of the fit: slope %6.3f, intercept: %6.3f\" % (fit[0], fit[1]))\n",
    "     "
   ]
  },
  {
   "cell_type": "code",
   "execution_count": 18,
   "id": "5854d320",
   "metadata": {},
   "outputs": [
    {
     "name": "stdout",
     "output_type": "stream",
     "text": [
      "           #EventID     Latitude    Longitude     Depth/Km  Catalog  \\\n",
      "count  7.262000e+03  7262.000000  7262.000000  7262.000000      0.0   \n",
      "mean   2.282544e+07    37.806956    15.020027    15.529221      NaN   \n",
      "std    3.771171e+06     0.261716     0.314322    18.918580      NaN   \n",
      "min    1.259293e+07    36.612700    14.011700    -0.300000      NaN   \n",
      "25%    2.079282e+07    37.714225    14.909400     7.000000      NaN   \n",
      "50%    2.320111e+07    37.755000    15.020000     9.900000      NaN   \n",
      "75%    2.581441e+07    37.988600    15.126700    20.900000      NaN   \n",
      "max    2.948684e+07    38.397000    16.213200   202.600000      NaN   \n",
      "\n",
      "       Contributor  ContributorID    Magnitude  \n",
      "count          0.0            0.0  7262.000000  \n",
      "mean           NaN            NaN     1.731038  \n",
      "std            NaN            NaN     0.518574  \n",
      "min            NaN            NaN     0.200000  \n",
      "25%            NaN            NaN     1.400000  \n",
      "50%            NaN            NaN     1.700000  \n",
      "75%            NaN            NaN     2.000000  \n",
      "max            NaN            NaN     4.900000  \n"
     ]
    },
    {
     "data": {
      "image/png": "[encoded data removed]",
      "text/plain": [
       "<Figure size 432x288 with 1 Axes>"
      ]
     },
     "metadata": {
      "needs_background": "light"
     },
     "output_type": "display_data"
    },
    {
     "data": {
      "image/png": "[encoded data removed]",
      "text/plain": [
       "<Figure size 432x288 with 1 Axes>"
      ]
     },
     "metadata": {
      "needs_background": "light"
     },
     "output_type": "display_data"
    },
    {
     "name": "stdout",
     "output_type": "stream",
     "text": [
      "Parameters of the fit: slope -1.068, intercept:  4.819\n"
     ]
    }
   ],
   "source": [
    "richter('catania_5.dat', 2, 3.5)"
   ]
  },
  {
   "cell_type": "markdown",
   "id": "38872837",
   "metadata": {},
   "source": [
    "A similar analysis is done for seismic data from Central Italy (circular area around l'Aquila; radius: 60 km; minimum magnitude: 2; last 5 years):"
   ]
  },
  {
   "cell_type": "code",
   "execution_count": 19,
   "id": "1f9538dc",
   "metadata": {},
   "outputs": [
    {
     "name": "stdout",
     "output_type": "stream",
     "text": [
      "           #EventID     Latitude    Longitude     Depth/Km  Catalog  \\\n",
      "count  2.802000e+03  2802.000000  2802.000000  2802.000000      0.0   \n",
      "mean   1.649105e+07    42.611520    13.258415    11.193469      NaN   \n",
      "std    4.579583e+06     0.151819     0.113105     2.723634      NaN   \n",
      "min    1.254195e+07    41.849700    12.672700     1.500000      NaN   \n",
      "25%    1.275843e+07    42.520350    13.203225     9.700000      NaN   \n",
      "50%    1.423485e+07    42.596400    13.267300    10.600000      NaN   \n",
      "75%    1.934072e+07    42.738975    13.313300    12.100000      NaN   \n",
      "max    2.944715e+07    42.890800    13.981800    50.800000      NaN   \n",
      "\n",
      "       Contributor  ContributorID    Magnitude  \n",
      "count          0.0            0.0  2802.000000  \n",
      "mean           NaN            NaN     2.344968  \n",
      "std            NaN            NaN     0.383679  \n",
      "min            NaN            NaN     2.000000  \n",
      "25%            NaN            NaN     2.100000  \n",
      "50%            NaN            NaN     2.200000  \n",
      "75%            NaN            NaN     2.500000  \n",
      "max            NaN            NaN     5.500000  \n"
     ]
    },
    {
     "data": {
      "image/png": "[encoded data removed]",
      "text/plain": [
       "<Figure size 432x288 with 1 Axes>"
      ]
     },
     "metadata": {
      "needs_background": "light"
     },
     "output_type": "display_data"
    },
    {
     "data": {
      "image/png": "[encoded data removed]",
      "text/plain": [
       "<Figure size 432x288 with 1 Axes>"
      ]
     },
     "metadata": {
      "needs_background": "light"
     },
     "output_type": "display_data"
    },
    {
     "name": "stdout",
     "output_type": "stream",
     "text": [
      "Parameters of the fit: slope -1.157, intercept:  5.142\n"
     ]
    }
   ],
   "source": [
    "richter('central_5.dat', 2, 4)"
   ]
  },
  {
   "cell_type": "code",
   "execution_count": 20,
   "id": "a3113fcc",
   "metadata": {},
   "outputs": [
    {
     "name": "stdout",
     "output_type": "stream",
     "text": [
      "           #EventID    Latitude   Longitude    Depth/Km  Catalog  Contributor  \\\n",
      "count  4.770000e+02  477.000000  477.000000  477.000000      0.0          0.0   \n",
      "mean   2.239706e+07   44.626879   10.518343   20.734801      NaN          NaN   \n",
      "std    4.121432e+06    0.191143    0.585421   11.537163      NaN          NaN   \n",
      "min    1.256547e+07   44.301700    9.623200    4.100000      NaN          NaN   \n",
      "25%    1.860435e+07   44.424700   10.059800   10.700000      NaN          NaN   \n",
      "50%    2.358316e+07   44.667500   10.347200   20.800000      NaN          NaN   \n",
      "75%    2.495565e+07   44.755500   10.838200   26.100000      NaN          NaN   \n",
      "max    2.951276e+07   45.077300   12.189300   73.200000      NaN          NaN   \n",
      "\n",
      "       ContributorID   Magnitude  \n",
      "count            0.0  477.000000  \n",
      "mean             NaN    2.326415  \n",
      "std              NaN    0.345095  \n",
      "min              NaN    2.000000  \n",
      "25%              NaN    2.100000  \n",
      "50%              NaN    2.200000  \n",
      "75%              NaN    2.500000  \n",
      "max              NaN    4.400000  \n"
     ]
    },
    {
     "data": {
      "image/png": "[encoded data removed]",
      "text/plain": [
       "<Figure size 432x288 with 1 Axes>"
      ]
     },
     "metadata": {
      "needs_background": "light"
     },
     "output_type": "display_data"
    },
    {
     "data": {
      "image/png": "[encoded data removed]",
      "text/plain": [
       "<Figure size 432x288 with 1 Axes>"
      ]
     },
     "metadata": {
      "needs_background": "light"
     },
     "output_type": "display_data"
    },
    {
     "name": "stdout",
     "output_type": "stream",
     "text": [
      "Parameters of the fit: slope -1.140, intercept:  4.330\n"
     ]
    }
   ],
   "source": [
    "richter('emilia_5.dat', 2, 3.0)"
   ]
  },
  {
   "cell_type": "code",
   "execution_count": null,
   "id": "c10517c9",
   "metadata": {},
   "outputs": [],
   "source": []
  }
 ],
 "metadata": {
  "kernelspec": {
   "display_name": "Python 3 (ipykernel)",
   "language": "python",
   "name": "python3"
  },
  "language_info": {
   "codemirror_mode": {
    "name": "ipython",
    "version": 3
   },
   "file_extension": ".py",
   "mimetype": "text/x-python",
   "name": "python",
   "nbconvert_exporter": "python",
   "pygments_lexer": "ipython3",
   "version": "3.9.7"
  },
  "latex_envs": {
   "LaTeX_envs_menu_present": true,
   "autoclose": false,
   "autocomplete": true,
   "bibliofile": "biblio.bib",
   "cite_by": "apalike",
   "current_citInitial": 1,
   "eqLabelWithNumbers": true,
   "eqNumInitial": 1,
   "hotkeys": {
    "equation": "Ctrl-E",
    "itemize": "Ctrl-I"
   },
   "labels_anchors": false,
   "latex_user_defs": false,
   "report_style_numbering": false,
   "user_envs_cfg": false
  }
 },
 "nbformat": 4,
 "nbformat_minor": 5
}
