{
 "cells": [
  {
   "cell_type": "markdown",
   "id": "095b3ade",
   "metadata": {},
   "source": [
    "## Conditionals\n",
    "\n",
    "Executes an instruction or a group of instruction if some condition is (or is *not*) satisfied. "
   ]
  },
  {
   "cell_type": "code",
   "execution_count": 1,
   "id": "44d85508",
   "metadata": {},
   "outputs": [
    {
     "name": "stdout",
     "output_type": "stream",
     "text": [
      "a is larger than 5\n"
     ]
    }
   ],
   "source": [
    "# Print a message only if a is greater then 5 \n",
    "\n",
    "a=10\n",
    "if a > 5: print(\"a is larger than 5\")"
   ]
  },
  {
   "cell_type": "code",
   "execution_count": 2,
   "id": "4647698f",
   "metadata": {},
   "outputs": [],
   "source": [
    "# In this case, nothing will be printed\n",
    "\n",
    "a=4\n",
    "if a > 5: print(\"a is larger than 5\")"
   ]
  },
  {
   "cell_type": "code",
   "execution_count": 3,
   "id": "a43d6fe4",
   "metadata": {},
   "outputs": [
    {
     "name": "stdout",
     "output_type": "stream",
     "text": [
      "a is lower than 5\n"
     ]
    }
   ],
   "source": [
    "# Here, an alternative is given...\n",
    "\n",
    "a=4\n",
    "\n",
    "if a > 5:\n",
    "    print(\"a is larger than 5\")\n",
    "else:\n",
    "    print(\"a is lower than 5\")"
   ]
  },
  {
   "cell_type": "code",
   "execution_count": 4,
   "id": "137ba3e5",
   "metadata": {},
   "outputs": [
    {
     "name": "stdout",
     "output_type": "stream",
     "text": [
      "a is lower than 5\n"
     ]
    }
   ],
   "source": [
    "# Pay attention...\n",
    "\n",
    "a=5\n",
    "\n",
    "if a > 5:\n",
    "    print(\"a is larger than 5\")\n",
    "else:\n",
    "    print(\"a is lower than 5\")"
   ]
  },
  {
   "cell_type": "code",
   "execution_count": 5,
   "id": "59018ea8",
   "metadata": {},
   "outputs": [
    {
     "name": "stdout",
     "output_type": "stream",
     "text": [
      "a is equal to 5\n"
     ]
    }
   ],
   "source": [
    "# Now it is better...\n",
    "\n",
    "a=5\n",
    "\n",
    "if a > 5:\n",
    "    print(\"a is larger than 5\")\n",
    "elif a < 5:\n",
    "    print(\"a is lower than 5\")\n",
    "else:\n",
    "    print(\"a is equal to 5\")"
   ]
  },
  {
   "cell_type": "markdown",
   "id": "8d53fae3",
   "metadata": {},
   "source": [
    "Comparison operators:\n",
    "\n",
    "```\n",
    ">, <, >=, <=, ==, !=\n",
    "\n",
    "```"
   ]
  },
  {
   "cell_type": "markdown",
   "id": "dd39fd42",
   "metadata": {},
   "source": [
    "When comparing two numbers, always pay attention to situations like the following:"
   ]
  },
  {
   "cell_type": "code",
   "execution_count": 6,
   "id": "9938a262",
   "metadata": {},
   "outputs": [
    {
     "name": "stdout",
     "output_type": "stream",
     "text": [
      "False\n"
     ]
    }
   ],
   "source": [
    "a=1.\n",
    "b=1.00000001\n",
    "\n",
    "print(a == b)"
   ]
  },
  {
   "cell_type": "markdown",
   "id": "3ae36b9f",
   "metadata": {},
   "source": [
    "The usual way to handle this is:"
   ]
  },
  {
   "cell_type": "code",
   "execution_count": 7,
   "id": "c69fc107",
   "metadata": {},
   "outputs": [
    {
     "name": "stdout",
     "output_type": "stream",
     "text": [
      "a is equal to b (within the threshold)\n"
     ]
    }
   ],
   "source": [
    "threshold=1e-6\n",
    "\n",
    "a=1.\n",
    "b=1.00000001\n",
    "\n",
    "if (abs(a-b) < threshold):\n",
    "    print(\"a is equal to b (within the threshold)\")\n",
    "else:\n",
    "    print(\"a is not equal to b\")\n",
    "    "
   ]
  },
  {
   "cell_type": "markdown",
   "id": "5921954d",
   "metadata": {},
   "source": [
    "### An aside on errors and exceptions..."
   ]
  },
  {
   "cell_type": "markdown",
   "id": "63fcef10",
   "metadata": {},
   "source": [
    "But, what if *b* (or some other tested parameter) is not defined!?"
   ]
  },
  {
   "cell_type": "code",
   "execution_count": 8,
   "id": "51410646",
   "metadata": {},
   "outputs": [
    {
     "ename": "NameError",
     "evalue": "name 'b' is not defined",
     "output_type": "error",
     "traceback": [
      "\u001b[1;31m---------------------------------------------------------------------------\u001b[0m",
      "\u001b[1;31mNameError\u001b[0m                                 Traceback (most recent call last)",
      "\u001b[1;32m~\\AppData\\Local\\Temp/ipykernel_10720/2628406736.py\u001b[0m in \u001b[0;36m<module>\u001b[1;34m\u001b[0m\n\u001b[0;32m      1\u001b[0m \u001b[1;32mdel\u001b[0m\u001b[1;33m(\u001b[0m\u001b[0mb\u001b[0m\u001b[1;33m)\u001b[0m     \u001b[1;31m# remove the variable b from memory\u001b[0m\u001b[1;33m\u001b[0m\u001b[1;33m\u001b[0m\u001b[0m\n\u001b[1;32m----> 2\u001b[1;33m \u001b[1;32mif\u001b[0m \u001b[0mb\u001b[0m \u001b[1;33m>\u001b[0m \u001b[1;36m5\u001b[0m\u001b[1;33m:\u001b[0m\u001b[1;33m\u001b[0m\u001b[1;33m\u001b[0m\u001b[0m\n\u001b[0m\u001b[0;32m      3\u001b[0m     \u001b[0mprint\u001b[0m\u001b[1;33m(\u001b[0m\u001b[1;34m\"b is greater than 5\"\u001b[0m\u001b[1;33m)\u001b[0m\u001b[1;33m\u001b[0m\u001b[1;33m\u001b[0m\u001b[0m\n",
      "\u001b[1;31mNameError\u001b[0m: name 'b' is not defined"
     ]
    }
   ],
   "source": [
    "del(b)     # remove the variable b from memory\n",
    "if b > 5:\n",
    "    print(\"b is greater than 5\")"
   ]
  },
  {
   "cell_type": "markdown",
   "id": "6c1229f0",
   "metadata": {},
   "source": [
    "You see: you got an **NameError** type of... *error*\n",
    "\n",
    "If you foresee that this is a possible cause of error in your code, you can handle it by coding what the *reaction* of the code itself should be (not just to write a *dreadful* error message an stop...) "
   ]
  },
  {
   "cell_type": "code",
   "execution_count": 9,
   "id": "7640eeb4",
   "metadata": {},
   "outputs": [
    {
     "name": "stdout",
     "output_type": "stream",
     "text": [
      "I don't know what b is\n"
     ]
    }
   ],
   "source": [
    "try:\n",
    "    if b > 5:\n",
    "        print(\"b is greater then 5\")  \n",
    "except NameError:\n",
    "    print(\"I don't know what b is\")"
   ]
  },
  {
   "cell_type": "markdown",
   "id": "ce713a20",
   "metadata": {},
   "source": [
    "Here a slightly more complex situation where there is not a NameError (that would be handled as before), but we try to divide by 0..."
   ]
  },
  {
   "cell_type": "code",
   "execution_count": 10,
   "id": "c5a96b46",
   "metadata": {},
   "outputs": [
    {
     "name": "stdout",
     "output_type": "stream",
     "text": [
      "c is greater then 5\n",
      "I don't know what you are trying to do\n",
      "Do study arithmetics!\n"
     ]
    }
   ],
   "source": [
    "c=10\n",
    "e=0\n",
    "\n",
    "try:\n",
    "    if c > 5:\n",
    "        print(\"c is greater then 5\")  \n",
    "        d=c/e                          # Divide by zero...\n",
    "        print(\"d is \",d)\n",
    "except NameError:\n",
    "    print(\"I don't now what c is\")\n",
    "except:\n",
    "    print(\"I don't know what you are trying to do\")\n",
    "finally:\n",
    "    print(\"Do study arithmetics!\")"
   ]
  },
  {
   "cell_type": "markdown",
   "id": "76def90b",
   "metadata": {},
   "source": [
    "Conditions can be evaluated to True or False before the conditional expression is executed. \n",
    "\n",
    "In this case we use the Python function *all* to check if all of the elements of the *a* list are True (note that there exists the function *any* that checks if at least one element is True); the function *all* returns a *bool*:"
   ]
  },
  {
   "cell_type": "code",
   "execution_count": 11,
   "id": "df668913",
   "metadata": {},
   "outputs": [
    {
     "name": "stdout",
     "output_type": "stream",
     "text": [
      "At list one element of the list is False\n"
     ]
    }
   ],
   "source": [
    "import numpy as np\n",
    "a=np.array([1,1,0,1,0], dtype=bool)\n",
    "\n",
    "test=all(a)\n",
    "\n",
    "if test:\n",
    "    print(\"All of the elements of the list are True\")\n",
    "else:\n",
    "    print(\"At list one element of the list is False\")"
   ]
  },
  {
   "cell_type": "markdown",
   "id": "9c35a32f",
   "metadata": {},
   "source": [
    "## Cycles\n",
    "\n",
    "How to perform one or more instructions several times, in a *cycle*? \n",
    "\n",
    "The most common way is to use a **for** *loop*:  "
   ]
  },
  {
   "cell_type": "code",
   "execution_count": 12,
   "id": "9f4a32ff",
   "metadata": {},
   "outputs": [
    {
     "name": "stdout",
     "output_type": "stream",
     "text": [
      "a\n",
      "b\n",
      "c\n"
     ]
    }
   ],
   "source": [
    "a=['a', 'b', 'c']\n",
    "\n",
    "for ia in a:\n",
    "    print(ia)   # Do it for all of the elements in the list 'a'"
   ]
  },
  {
   "cell_type": "markdown",
   "id": "2cef762d",
   "metadata": {},
   "source": [
    "Here is another way of *looping*... we have our list *a*; we find the *size* (number of elements) of it; we build a list of integers from 0 to the size of the list (diminished by 1, as we start indexing the list from 0...)"
   ]
  },
  {
   "cell_type": "code",
   "execution_count": 13,
   "id": "571c213f",
   "metadata": {},
   "outputs": [
    {
     "name": "stdout",
     "output_type": "stream",
     "text": [
      "range(0, 3) [0, 1, 2]\n"
     ]
    }
   ],
   "source": [
    "size=len(a)\n",
    "ll=range(size)\n",
    "print(ll, list(ll))"
   ]
  },
  {
   "cell_type": "markdown",
   "id": "dee0b30a",
   "metadata": {},
   "source": [
    "... then we make a *loop* over all the indexes (integers in the list *ll*); we use those indexes to retrieve the values of the elements in the list *a* (end we print them):"
   ]
  },
  {
   "cell_type": "code",
   "execution_count": 14,
   "id": "1cf952e6",
   "metadata": {},
   "outputs": [
    {
     "name": "stdout",
     "output_type": "stream",
     "text": [
      "a\n",
      "b\n",
      "c\n"
     ]
    }
   ],
   "source": [
    "for ia in ll:\n",
    "    print(a[ia])"
   ]
  },
  {
   "cell_type": "markdown",
   "id": "d323f911",
   "metadata": {},
   "source": [
    "Here is another example"
   ]
  },
  {
   "cell_type": "code",
   "execution_count": 15,
   "id": "9e9829fc",
   "metadata": {},
   "outputs": [
    {
     "name": "stdout",
     "output_type": "stream",
     "text": [
      "abc\n"
     ]
    }
   ],
   "source": [
    "ss=''\n",
    "for ia in a:\n",
    "    ss=ss+ia\n",
    "\n",
    "print(ss)"
   ]
  },
  {
   "cell_type": "markdown",
   "id": "07dff497",
   "metadata": {},
   "source": [
    "Let's compute the *factorial* of a number: $n! = n(n-1)(n-2)\\cdots 2\\cdot 1$ "
   ]
  },
  {
   "cell_type": "code",
   "execution_count": 16,
   "id": "7e6742b6",
   "metadata": {},
   "outputs": [
    {
     "name": "stdout",
     "output_type": "stream",
     "text": [
      "3628800\n"
     ]
    }
   ],
   "source": [
    "n=10\n",
    "factorial=1\n",
    "\n",
    "for i in range(n+1):\n",
    "    if i != 0:\n",
    "       factorial=factorial*i\n",
    "\n",
    "print(factorial)"
   ]
  },
  {
   "cell_type": "markdown",
   "id": "0e5e4929",
   "metadata": {},
   "source": [
    "A more efficient way avoids the use of a conditional at every step of the cycle... "
   ]
  },
  {
   "cell_type": "code",
   "execution_count": 17,
   "id": "74a896f4",
   "metadata": {},
   "outputs": [
    {
     "name": "stdout",
     "output_type": "stream",
     "text": [
      "[1, 2, 3, 4, 5, 6, 7, 8, 9, 10]\n",
      "factorial of  10:    3628800\n"
     ]
    }
   ],
   "source": [
    "n=10\n",
    "factorial=1\n",
    "ll=range(1,n+1)   # range from 1 to n+1\n",
    "print(list(ll))\n",
    "\n",
    "for i in range(1,n+1):\n",
    "    factorial=factorial*i\n",
    "\n",
    "print(\"factorial of %3i: %10i\" % (n, factorial))"
   ]
  },
  {
   "cell_type": "markdown",
   "id": "882ec82d",
   "metadata": {},
   "source": [
    "#### *Breaking* cycles"
   ]
  },
  {
   "cell_type": "code",
   "execution_count": 18,
   "id": "ba32775c",
   "metadata": {},
   "outputs": [
    {
     "name": "stdout",
     "output_type": "stream",
     "text": [
      "1\n",
      "I do not stop as I did not find any 0 till now!\n",
      "2\n",
      "I do not stop as I did not find any 0 till now!\n"
     ]
    }
   ],
   "source": [
    "a=[1,2,0,3,4]\n",
    "\n",
    "for ia in a:\n",
    "    if ia != 0:\n",
    "        print(ia)\n",
    "    else:\n",
    "        break\n",
    "        \n",
    "    print(\"I do not stop as I did not find any 0 till now!\")"
   ]
  },
  {
   "cell_type": "code",
   "execution_count": 19,
   "id": "062b2c6e",
   "metadata": {},
   "outputs": [
    {
     "name": "stdout",
     "output_type": "stream",
     "text": [
      "Value of the element  1:  4\n",
      "I do not stop even if I would find a 0...\n",
      "Value of the element  2:  2\n",
      "I do not stop even if I would find a 0...\n",
      "*** I found a 0 in position:  3\n",
      "\n",
      "Value of the element  4:  1\n",
      "I do not stop even if I would find a 0...\n",
      "*** I found a 0 in position:  5\n",
      "\n"
     ]
    }
   ],
   "source": [
    "a=[4,2,0,1,0]\n",
    "\n",
    "ipos=0\n",
    "for ia in a:\n",
    "    ipos=ipos+1\n",
    "    if ia != 0:\n",
    "        print(\"Value of the element %2i: %2i\" % (ipos, ia))\n",
    "    else:\n",
    "        print(\"*** I found a 0 in position: %2i\\n\" % ipos)\n",
    "        continue\n",
    "        \n",
    "    print(\"I do not stop even if I would find a 0...\")"
   ]
  },
  {
   "cell_type": "markdown",
   "id": "5a21f7c2",
   "metadata": {},
   "source": [
    "#### The *while* cycle"
   ]
  },
  {
   "cell_type": "code",
   "execution_count": 20,
   "id": "b8d87bda",
   "metadata": {},
   "outputs": [
    {
     "name": "stdout",
     "output_type": "stream",
     "text": [
      "jn, product:  1 1\n",
      "jn, product:  2 2\n",
      "jn, product:  3 6\n",
      "jn, product:  4 24\n",
      "jn, product:  5 120\n",
      "jn, product:  6 720\n",
      "\n",
      "Factorial of   6:        720\n"
     ]
    }
   ],
   "source": [
    "n=6\n",
    "factorial=1\n",
    "\n",
    "jn=1\n",
    "while jn <= n:\n",
    "    factorial=factorial*jn   \n",
    "    print(\"jn, product: \", jn, factorial)\n",
    "    jn=jn+1\n",
    "    \n",
    "print(\"\\nFactorial of %3i: %10i\" % (n,factorial))"
   ]
  },
  {
   "cell_type": "markdown",
   "id": "18b67f7c",
   "metadata": {},
   "source": [
    "### A different way to write a *for* loop... \n",
    "\n",
    "We already encountered a situation like this one:"
   ]
  },
  {
   "cell_type": "code",
   "execution_count": 21,
   "id": "d8a90ddd",
   "metadata": {},
   "outputs": [
    {
     "name": "stdout",
     "output_type": "stream",
     "text": [
      "[12, 23, 34, 45]\n"
     ]
    }
   ],
   "source": [
    "a=[10, 20, 30, 40]\n",
    "b=[2, 3, 4, 5]\n",
    "c=[]\n",
    "\n",
    "for ia, ib in zip(a, b):\n",
    "    ic=ia+ib\n",
    "    c.append(ic)\n",
    "    \n",
    "print(c)"
   ]
  },
  {
   "cell_type": "markdown",
   "id": "6c8c40e0",
   "metadata": {},
   "source": [
    "This calculation can also be coded in another way:"
   ]
  },
  {
   "cell_type": "code",
   "execution_count": 22,
   "id": "69bb7264",
   "metadata": {},
   "outputs": [
    {
     "name": "stdout",
     "output_type": "stream",
     "text": [
      "[12, 23, 34, 45]\n"
     ]
    }
   ],
   "source": [
    "c=list(ia + ib for ia, ib in zip(a,b))\n",
    "print(c)"
   ]
  },
  {
   "cell_type": "markdown",
   "id": "ba8bec21",
   "metadata": {},
   "source": [
    "Note a few things..."
   ]
  },
  {
   "cell_type": "code",
   "execution_count": 23,
   "id": "1ffa538a",
   "metadata": {},
   "outputs": [
    {
     "name": "stdout",
     "output_type": "stream",
     "text": [
      "The type of d is:  <class 'generator'>\n"
     ]
    }
   ],
   "source": [
    "a=[10, 20, 30, 40]\n",
    "d=(ia for ia in a)\n",
    "\n",
    "print(\"The type of d is: \", type(d))"
   ]
  },
  {
   "cell_type": "markdown",
   "id": "6912d2f7",
   "metadata": {},
   "source": [
    "We can get the list generated by the generator *d* with:"
   ]
  },
  {
   "cell_type": "code",
   "execution_count": 24,
   "id": "2cba5ed9",
   "metadata": {},
   "outputs": [
    {
     "data": {
      "text/plain": [
       "[10, 20, 30, 40]"
      ]
     },
     "execution_count": 24,
     "metadata": {},
     "output_type": "execute_result"
    }
   ],
   "source": [
    "list(d)"
   ]
  }
 ],
 "metadata": {
  "kernelspec": {
   "display_name": "Python 3 (ipykernel)",
   "language": "python",
   "name": "python3"
  },
  "language_info": {
   "codemirror_mode": {
    "name": "ipython",
    "version": 3
   },
   "file_extension": ".py",
   "mimetype": "text/x-python",
   "name": "python",
   "nbconvert_exporter": "python",
   "pygments_lexer": "ipython3",
   "version": "3.8.5"
  },
  "latex_envs": {
   "LaTeX_envs_menu_present": true,
   "autoclose": false,
   "autocomplete": true,
   "bibliofile": "biblio.bib",
   "cite_by": "apalike",
   "current_citInitial": 1,
   "eqLabelWithNumbers": true,
   "eqNumInitial": 1,
   "hotkeys": {
    "equation": "Ctrl-E",
    "itemize": "Ctrl-I"
   },
   "labels_anchors": false,
   "latex_user_defs": false,
   "report_style_numbering": false,
   "user_envs_cfg": false
  }
 },
 "nbformat": 4,
 "nbformat_minor": 5
}
