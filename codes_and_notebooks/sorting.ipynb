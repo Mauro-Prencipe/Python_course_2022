{
 "cells": [
  {
   "cell_type": "markdown",
   "id": "73440a1a",
   "metadata": {},
   "source": [
    "## Sorting algorithm \n",
    "\n",
    "Run the Python code *sorting.py* which generates a list of numbers saved in the numpy array *data*; the *data* list can be sorted by the functions *my_sort* and *my_sort_2* defined in the program, or by the *sort* function of the numpy library.\n",
    "\n",
    "The program loads the numpy library (with alias np). Note that the numpy *sort*, *my_sort* and *my_sort_2* functions do not modify the original *data* array. "
   ]
  },
  {
   "cell_type": "code",
   "execution_count": 1,
   "id": "bc548f5c",
   "metadata": {},
   "outputs": [],
   "source": [
    "%run sorting.py"
   ]
  },
  {
   "cell_type": "markdown",
   "id": "46489f63",
   "metadata": {},
   "source": [
    "Here is the code of the *my_sort* function defined in the program\n",
    "\n",
    "```\n",
    "def my_sort(dd):\n",
    "    \n",
    "    ds=np.copy(dd)\n",
    "    ll=np.arange(ds.size-1)\n",
    "    flag=True\n",
    "    \n",
    "    while flag:\n",
    "          for id in ll:\n",
    "              flag=False\n",
    "              if ds[id] > ds[id+1]:\n",
    "                 temp=ds[id]\n",
    "                 ds[id]=ds[id+1]\n",
    "                 ds[id+1]=temp\n",
    "                 flag=True\n",
    "              if flag:\n",
    "                 break\n",
    "             \n",
    "    return ds\n",
    "```"
   ]
  },
  {
   "cell_type": "markdown",
   "id": "95b0a7f6",
   "metadata": {},
   "source": [
    "Instead, the code for the *my_sort_2* function is:\n",
    "\n",
    "```\n",
    "def my_sort_2(dd):\n",
    "    \n",
    "    ds=np.copy(dd)\n",
    "    ll=np.arange(ds.size)\n",
    "    \n",
    "    for id in ll:\n",
    "        ll2=np.arange(id, ds.size)\n",
    "        for jd in ll2:\n",
    "            if ds[id] > ds[jd]:\n",
    "               temp=ds[id]\n",
    "               ds[id]=ds[jd]\n",
    "               ds[jd]=temp\n",
    "               \n",
    "    return ds\n",
    "```"
   ]
  },
  {
   "cell_type": "code",
   "execution_count": 2,
   "id": "05ca76be",
   "metadata": {},
   "outputs": [
    {
     "name": "stdout",
     "output_type": "stream",
     "text": [
      "Total number of data to be sorted: 400\n",
      "First 10 elements of the arrays\n",
      "\n",
      "      Original   my_sort    my_sort_2  sort\n",
      "\n",
      " 0)   0.6013     0.0025     0.0025     0.0025\n",
      " 1)   0.4626     0.0076     0.0076     0.0076\n",
      " 2)   0.8635     0.0078     0.0078     0.0078\n",
      " 3)   0.4233     0.0130     0.0130     0.0130\n",
      " 4)   0.0431     0.0132     0.0132     0.0132\n",
      " 5)   0.6644     0.0145     0.0145     0.0145\n",
      " 6)   0.0406     0.0187     0.0187     0.0187\n",
      " 7)   0.0187     0.0189     0.0189     0.0189\n",
      " 8)   0.6171     0.0194     0.0194     0.0194\n",
      " 9)   0.4526     0.0213     0.0213     0.0213\n"
     ]
    }
   ],
   "source": [
    "my_sorted=my_sort(data)\n",
    "my_sorted_2=my_sort_2(data)\n",
    "sorted=np.sort(data)\n",
    "num=10\n",
    "\n",
    "print(\"Total number of data to be sorted: %3i\" % num_data)\n",
    "print(\"First %1i elements of the arrays\\n\\n      Original   my_sort    my_sort_2  sort\\n\" % num)\n",
    "for id in np.arange(num):\n",
    "    print(\"%2i)   %5.4f     %5.4f     %5.4f     %5.4f\" % (id, data[id], my_sorted[id], my_sorted_2[id], sorted[id]))"
   ]
  },
  {
   "cell_type": "markdown",
   "id": "8940cf9e",
   "metadata": {},
   "source": [
    "### Evaluating the performances\n",
    "\n",
    "We use the function *timeit* to evaluate the performance (*time to execute*) of the three different sorting functions"
   ]
  },
  {
   "cell_type": "code",
   "execution_count": 3,
   "id": "d3a7e80d",
   "metadata": {},
   "outputs": [
    {
     "name": "stdout",
     "output_type": "stream",
     "text": [
      "3.98 s ± 104 ms per loop (mean ± std. dev. of 7 runs, 1 loop each)\n"
     ]
    }
   ],
   "source": [
    "timeit(my_sort(data))"
   ]
  },
  {
   "cell_type": "code",
   "execution_count": 4,
   "id": "80cf18d5",
   "metadata": {},
   "outputs": [
    {
     "name": "stdout",
     "output_type": "stream",
     "text": [
      "50.2 ms ± 846 µs per loop (mean ± std. dev. of 7 runs, 10 loops each)\n"
     ]
    }
   ],
   "source": [
    "timeit(my_sort_2(data))"
   ]
  },
  {
   "cell_type": "code",
   "execution_count": 5,
   "id": "21d6b6dd",
   "metadata": {},
   "outputs": [
    {
     "name": "stdout",
     "output_type": "stream",
     "text": [
      "5.77 µs ± 93.9 ns per loop (mean ± std. dev. of 7 runs, 100000 loops each)\n"
     ]
    }
   ],
   "source": [
    "timeit(np.sort(data))"
   ]
  },
  {
   "cell_type": "markdown",
   "id": "a32f79df",
   "metadata": {},
   "source": [
    "The numpy *sort* function performs much better than the here defined sorting functions. In turn, the *my_sort_2* function performs better than the *my_sort* one."
   ]
  }
 ],
 "metadata": {
  "kernelspec": {
   "display_name": "Python 3 (ipykernel)",
   "language": "python",
   "name": "python3"
  },
  "language_info": {
   "codemirror_mode": {
    "name": "ipython",
    "version": 3
   },
   "file_extension": ".py",
   "mimetype": "text/x-python",
   "name": "python",
   "nbconvert_exporter": "python",
   "pygments_lexer": "ipython3",
   "version": "3.8.5"
  },
  "latex_envs": {
   "LaTeX_envs_menu_present": true,
   "autoclose": false,
   "autocomplete": true,
   "bibliofile": "biblio.bib",
   "cite_by": "apalike",
   "current_citInitial": 1,
   "eqLabelWithNumbers": true,
   "eqNumInitial": 1,
   "hotkeys": {
    "equation": "Ctrl-E",
    "itemize": "Ctrl-I"
   },
   "labels_anchors": false,
   "latex_user_defs": false,
   "report_style_numbering": false,
   "user_envs_cfg": false
  }
 },
 "nbformat": 4,
 "nbformat_minor": 5
}
