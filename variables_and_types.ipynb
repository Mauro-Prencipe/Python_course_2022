{
 "cells": [
  {
   "cell_type": "markdown",
   "id": "3daa23c1",
   "metadata": {},
   "source": [
    "# Variables\n",
    "\n",
    "### *Pure* Python"
   ]
  },
  {
   "cell_type": "code",
   "execution_count": 1,
   "id": "8f4e8322",
   "metadata": {},
   "outputs": [
    {
     "name": "stdout",
     "output_type": "stream",
     "text": [
      "Type of a: <class 'int'>\n",
      "Type of b: <class 'float'>\n"
     ]
    }
   ],
   "source": [
    "a=1\n",
    "print(\"Type of a:\",type(a))\n",
    "\n",
    "b=1.\n",
    "print(\"Type of b:\",type(b))"
   ]
  },
  {
   "cell_type": "markdown",
   "id": "9b22aceb",
   "metadata": {},
   "source": [
    "### Type conversions"
   ]
  },
  {
   "cell_type": "code",
   "execution_count": 2,
   "id": "6953af78",
   "metadata": {},
   "outputs": [
    {
     "name": "stdout",
     "output_type": "stream",
     "text": [
      "1.0   type of c: <class 'float'>\n"
     ]
    }
   ],
   "source": [
    "c=float(a)\n",
    "print(c,\"  type of c:\", type(c))"
   ]
  },
  {
   "cell_type": "markdown",
   "id": "f99a2a8a",
   "metadata": {},
   "source": [
    "### Lists\n",
    "\n",
    "List of integers"
   ]
  },
  {
   "cell_type": "code",
   "execution_count": 3,
   "id": "7814203c",
   "metadata": {},
   "outputs": [
    {
     "name": "stdout",
     "output_type": "stream",
     "text": [
      "Type of d: <class 'list'>\n",
      "3  type of an element of d: <class 'int'>\n"
     ]
    }
   ],
   "source": [
    "d=[1,2,3,4]\n",
    "print(\"Type of d:\",type(d))\n",
    "print(d[2],\" type of an element of d:\", type(d[2]))\n",
    "\n"
   ]
  },
  {
   "cell_type": "markdown",
   "id": "1185c068",
   "metadata": {},
   "source": [
    "List of elements of different types"
   ]
  },
  {
   "cell_type": "code",
   "execution_count": 4,
   "id": "0747c71d",
   "metadata": {},
   "outputs": [
    {
     "name": "stdout",
     "output_type": "stream",
     "text": [
      "Type of d: <class 'list'>\n",
      "1     - type of the element 0  of e: <class 'int'>\n",
      "1     - type of the element 1  of e: <class 'str'>\n",
      "1.0     - type of the element 2  of e: <class 'float'>\n"
     ]
    }
   ],
   "source": [
    "e=[1, \"1\", 1.]\n",
    "print(\"Type of d:\",type(d))\n",
    "\n",
    "for id in [0, 1, 2]:\n",
    "    print(e[id],\"    - type of the element\", id, \" of e:\", type(e[id]))"
   ]
  },
  {
   "cell_type": "markdown",
   "id": "57c87128",
   "metadata": {},
   "source": [
    "Elements of lists can be *reassigned*"
   ]
  },
  {
   "cell_type": "code",
   "execution_count": 5,
   "id": "42304e19",
   "metadata": {},
   "outputs": [
    {
     "name": "stdout",
     "output_type": "stream",
     "text": [
      "[1, 2, 1.0]\n"
     ]
    }
   ],
   "source": [
    "e[1]=2\n",
    "print(e)"
   ]
  },
  {
   "cell_type": "markdown",
   "id": "a04591fe",
   "metadata": {},
   "source": [
    "### Tuples"
   ]
  },
  {
   "cell_type": "code",
   "execution_count": 6,
   "id": "960a7d4e",
   "metadata": {},
   "outputs": [
    {
     "name": "stdout",
     "output_type": "stream",
     "text": [
      "(1, 2, 3) <class 'tuple'>\n"
     ]
    }
   ],
   "source": [
    "f=(1,2,3)\n",
    "print(f, type(f))"
   ]
  },
  {
   "cell_type": "markdown",
   "id": "15ead8c8",
   "metadata": {},
   "source": [
    "Elements of tuples *cannot be reassigned*"
   ]
  },
  {
   "cell_type": "code",
   "execution_count": 7,
   "id": "3998423b",
   "metadata": {},
   "outputs": [
    {
     "ename": "TypeError",
     "evalue": "'tuple' object does not support item assignment",
     "output_type": "error",
     "traceback": [
      "\u001b[1;31m---------------------------------------------------------------------------\u001b[0m",
      "\u001b[1;31mTypeError\u001b[0m                                 Traceback (most recent call last)",
      "\u001b[1;32m~\\AppData\\Local\\Temp/ipykernel_4228/2943164850.py\u001b[0m in \u001b[0;36m<module>\u001b[1;34m\u001b[0m\n\u001b[1;32m----> 1\u001b[1;33m \u001b[0mf\u001b[0m\u001b[1;33m[\u001b[0m\u001b[1;36m2\u001b[0m\u001b[1;33m]\u001b[0m\u001b[1;33m=\u001b[0m\u001b[1;36m4\u001b[0m\u001b[1;33m\u001b[0m\u001b[1;33m\u001b[0m\u001b[0m\n\u001b[0m",
      "\u001b[1;31mTypeError\u001b[0m: 'tuple' object does not support item assignment"
     ]
    }
   ],
   "source": [
    "f[2]=4"
   ]
  },
  {
   "cell_type": "markdown",
   "id": "c012133d",
   "metadata": {},
   "source": [
    "### Size of lists (and tuples)"
   ]
  },
  {
   "cell_type": "code",
   "execution_count": 8,
   "id": "ff847a8f",
   "metadata": {},
   "outputs": [
    {
     "data": {
      "text/plain": [
       "4"
      ]
     },
     "execution_count": 8,
     "metadata": {},
     "output_type": "execute_result"
    }
   ],
   "source": [
    "len(d)"
   ]
  },
  {
   "cell_type": "code",
   "execution_count": 9,
   "id": "a6d59180",
   "metadata": {},
   "outputs": [],
   "source": [
    "g=[[1,2,3,4],[5,6,7,8]]"
   ]
  },
  {
   "cell_type": "code",
   "execution_count": 10,
   "id": "e85ab7a8",
   "metadata": {},
   "outputs": [
    {
     "data": {
      "text/plain": [
       "[[1, 2, 3, 4], [5, 6, 7, 8]]"
      ]
     },
     "execution_count": 10,
     "metadata": {},
     "output_type": "execute_result"
    }
   ],
   "source": [
    "g"
   ]
  },
  {
   "cell_type": "code",
   "execution_count": 11,
   "id": "c65d1726",
   "metadata": {},
   "outputs": [
    {
     "name": "stdout",
     "output_type": "stream",
     "text": [
      "[1, 2, 3, 4]\n",
      "[5, 6, 7, 8]\n"
     ]
    }
   ],
   "source": [
    "print(g[0])\n",
    "print(g[1])"
   ]
  },
  {
   "cell_type": "code",
   "execution_count": 12,
   "id": "343bb103",
   "metadata": {},
   "outputs": [
    {
     "name": "stdout",
     "output_type": "stream",
     "text": [
      "2\n",
      "4\n"
     ]
    }
   ],
   "source": [
    "print(len(g))\n",
    "print(len(g[0]))"
   ]
  },
  {
   "cell_type": "markdown",
   "id": "539cc8d4",
   "metadata": {},
   "source": [
    "### Strings"
   ]
  },
  {
   "cell_type": "code",
   "execution_count": 13,
   "id": "82e5035c",
   "metadata": {},
   "outputs": [
    {
     "name": "stdout",
     "output_type": "stream",
     "text": [
      "this is a string\n"
     ]
    }
   ],
   "source": [
    "h='this is a string'\n",
    "print(h)"
   ]
  },
  {
   "cell_type": "code",
   "execution_count": 14,
   "id": "63bdad83",
   "metadata": {},
   "outputs": [
    {
     "name": "stdout",
     "output_type": "stream",
     "text": [
      "Size of the string:  16\n",
      "Type of ll:    <class 'range'> \n",
      "\n",
      "\n",
      "0 t\n",
      "1 h\n",
      "2 i\n",
      "3 s\n",
      "4  \n",
      "5 i\n",
      "6 s\n",
      "7  \n",
      "8 a\n",
      "9  \n",
      "10 s\n",
      "11 t\n",
      "12 r\n",
      "13 i\n",
      "14 n\n",
      "15 g\n"
     ]
    }
   ],
   "source": [
    "size=len(h)\n",
    "ll=range(size)\n",
    "\n",
    "print(\"Size of the string: \", size)\n",
    "print(\"Type of ll:   \",type(ll),\"\\n\\n\")\n",
    "\n",
    "for id in ll:\n",
    "    print(id, h[id])"
   ]
  },
  {
   "cell_type": "markdown",
   "id": "4907b5db",
   "metadata": {},
   "source": [
    "### Concatenation of lists (operator +)"
   ]
  },
  {
   "cell_type": "code",
   "execution_count": 15,
   "id": "62a80f5a",
   "metadata": {},
   "outputs": [
    {
     "name": "stdout",
     "output_type": "stream",
     "text": [
      "Statement_1 and statement_2\n"
     ]
    }
   ],
   "source": [
    "a=\"Statement_1\"\n",
    "b=\"statement_2\"\n",
    "\n",
    "c=a+\" and \"+b\n",
    "print(c)"
   ]
  },
  {
   "cell_type": "code",
   "execution_count": 16,
   "id": "e477a930",
   "metadata": {},
   "outputs": [
    {
     "name": "stdout",
     "output_type": "stream",
     "text": [
      "[1, 2, 3, 4, 5]\n"
     ]
    }
   ],
   "source": [
    "a=[1,2,3]\n",
    "b=[4,5]\n",
    "\n",
    "c=a+b\n",
    "print(c)"
   ]
  },
  {
   "cell_type": "code",
   "execution_count": 17,
   "id": "6c363079",
   "metadata": {},
   "outputs": [
    {
     "name": "stdout",
     "output_type": "stream",
     "text": [
      "[[1, 2, 3], [4, 5]]\n"
     ]
    }
   ],
   "source": [
    "c=[a]+[b]\n",
    "print(c)"
   ]
  },
  {
   "cell_type": "markdown",
   "id": "a3afb5e0",
   "metadata": {},
   "source": [
    "### But..."
   ]
  },
  {
   "cell_type": "code",
   "execution_count": 18,
   "id": "b0780800",
   "metadata": {},
   "outputs": [
    {
     "name": "stdout",
     "output_type": "stream",
     "text": [
      "3\n"
     ]
    }
   ],
   "source": [
    "a=1\n",
    "b=2\n",
    "\n",
    "c=a+b\n",
    "print(c)"
   ]
  },
  {
   "cell_type": "code",
   "execution_count": 19,
   "id": "695161d6",
   "metadata": {},
   "outputs": [
    {
     "name": "stdout",
     "output_type": "stream",
     "text": [
      "12\n"
     ]
    }
   ],
   "source": [
    "a=str(a)\n",
    "b=str(b)\n",
    "\n",
    "c=a+b\n",
    "print(c)"
   ]
  },
  {
   "cell_type": "code",
   "execution_count": 20,
   "id": "2590a412",
   "metadata": {},
   "outputs": [
    {
     "name": "stdout",
     "output_type": "stream",
     "text": [
      "(1, 2, 3, 4)  - type d:  <class 'tuple'>\n",
      "[1, 2, 3, 4]  - type e:  <class 'list'>\n"
     ]
    }
   ],
   "source": [
    "d=tuple([1,2]+[3,4])\n",
    "e=list([1,2]+[3,4])\n",
    "\n",
    "print(d, \" - type d: \", type(d))\n",
    "print(e, \" - type e: \", type(e))"
   ]
  },
  {
   "cell_type": "markdown",
   "id": "86c9ed34",
   "metadata": {},
   "source": [
    "### How to sum lists *element wise* (*pure* Python)"
   ]
  },
  {
   "cell_type": "code",
   "execution_count": 21,
   "id": "aed55ef5",
   "metadata": {},
   "outputs": [
    {
     "name": "stdout",
     "output_type": "stream",
     "text": [
      "[7, 9, 11, 13, 15]\n"
     ]
    }
   ],
   "source": [
    "a=[1,2,3,4,5]\n",
    "b=[6,7,8,9,10]\n",
    "c=[]\n",
    "\n",
    "la=len(a)\n",
    "\n",
    "for id in range(la):\n",
    "    isum=a[id]+b[id]\n",
    "    c.append(isum)\n",
    "    \n",
    "print(c)"
   ]
  },
  {
   "cell_type": "markdown",
   "id": "f84dcc35",
   "metadata": {},
   "source": [
    "Another method... uses the *zip* function"
   ]
  },
  {
   "cell_type": "code",
   "execution_count": 22,
   "id": "3af78db5",
   "metadata": {},
   "outputs": [
    {
     "name": "stdout",
     "output_type": "stream",
     "text": [
      "[7, 9, 11, 13, 15]\n"
     ]
    }
   ],
   "source": [
    "a=[1,2,3,4,5]\n",
    "b=[6,7,8,9,10]\n",
    "c=[]\n",
    "\n",
    "for ia, ib in zip(a, b):\n",
    "    isum=ia+ib\n",
    "    c.append(isum)\n",
    "    \n",
    "print(c)"
   ]
  },
  {
   "cell_type": "markdown",
   "id": "30b9211c",
   "metadata": {},
   "source": [
    "What if *a* and *b* are lists of different length...."
   ]
  },
  {
   "cell_type": "code",
   "execution_count": 23,
   "id": "0a4c4f6a",
   "metadata": {},
   "outputs": [
    {
     "name": "stdout",
     "output_type": "stream",
     "text": [
      "[7, 9, 11, 13]\n"
     ]
    }
   ],
   "source": [
    "a=[1,2,3,4,5]\n",
    "b=[6,7,8,9]\n",
    "c=[]\n",
    "\n",
    "for ia, ib in zip(a, b):\n",
    "    isum=ia+ib\n",
    "    c.append(isum)\n",
    "    \n",
    "print(c)"
   ]
  },
  {
   "cell_type": "markdown",
   "id": "afe247b9",
   "metadata": {},
   "source": [
    "But..."
   ]
  },
  {
   "cell_type": "code",
   "execution_count": 24,
   "id": "f88a6a04",
   "metadata": {},
   "outputs": [
    {
     "ename": "IndexError",
     "evalue": "list index out of range",
     "output_type": "error",
     "traceback": [
      "\u001b[1;31m---------------------------------------------------------------------------\u001b[0m",
      "\u001b[1;31mIndexError\u001b[0m                                Traceback (most recent call last)",
      "\u001b[1;32m~\\AppData\\Local\\Temp/ipykernel_4228/401809099.py\u001b[0m in \u001b[0;36m<module>\u001b[1;34m\u001b[0m\n\u001b[0;32m      6\u001b[0m \u001b[1;33m\u001b[0m\u001b[0m\n\u001b[0;32m      7\u001b[0m \u001b[1;32mfor\u001b[0m \u001b[0mid\u001b[0m \u001b[1;32min\u001b[0m \u001b[0mrange\u001b[0m\u001b[1;33m(\u001b[0m\u001b[0mla\u001b[0m\u001b[1;33m)\u001b[0m\u001b[1;33m:\u001b[0m\u001b[1;33m\u001b[0m\u001b[1;33m\u001b[0m\u001b[0m\n\u001b[1;32m----> 8\u001b[1;33m     \u001b[0misum\u001b[0m\u001b[1;33m=\u001b[0m\u001b[0ma\u001b[0m\u001b[1;33m[\u001b[0m\u001b[0mid\u001b[0m\u001b[1;33m]\u001b[0m\u001b[1;33m+\u001b[0m\u001b[0mb\u001b[0m\u001b[1;33m[\u001b[0m\u001b[0mid\u001b[0m\u001b[1;33m]\u001b[0m\u001b[1;33m\u001b[0m\u001b[1;33m\u001b[0m\u001b[0m\n\u001b[0m\u001b[0;32m      9\u001b[0m     \u001b[0mc\u001b[0m\u001b[1;33m.\u001b[0m\u001b[0mappend\u001b[0m\u001b[1;33m(\u001b[0m\u001b[0misum\u001b[0m\u001b[1;33m)\u001b[0m\u001b[1;33m\u001b[0m\u001b[1;33m\u001b[0m\u001b[0m\n\u001b[0;32m     10\u001b[0m \u001b[1;33m\u001b[0m\u001b[0m\n",
      "\u001b[1;31mIndexError\u001b[0m: list index out of range"
     ]
    }
   ],
   "source": [
    "a=[1,2,3,4,5]\n",
    "b=[6,7,8,9]\n",
    "c=[]\n",
    "\n",
    "la=len(a)\n",
    "\n",
    "for id in range(la):\n",
    "    isum=a[id]+b[id]\n",
    "    c.append(isum)\n",
    "    \n",
    "print(c)"
   ]
  },
  {
   "cell_type": "markdown",
   "id": "58d3e0c5",
   "metadata": {},
   "source": [
    "### Sorting Python lists"
   ]
  },
  {
   "cell_type": "code",
   "execution_count": 25,
   "id": "f5db1c38",
   "metadata": {},
   "outputs": [
    {
     "name": "stdout",
     "output_type": "stream",
     "text": [
      "Original list:  [4, 3, 2, 1]\n",
      "Sorted list:    [1, 2, 3, 4]\n"
     ]
    }
   ],
   "source": [
    "a=list([4,3,2,1])\n",
    "print(\"Original list: \", a)\n",
    "\n",
    "a.sort()\n",
    "print(\"Sorted list:   \",a)"
   ]
  },
  {
   "cell_type": "markdown",
   "id": "478a10fe",
   "metadata": {},
   "source": [
    "*Reverse* sorting "
   ]
  },
  {
   "cell_type": "code",
   "execution_count": 26,
   "id": "027b09c4",
   "metadata": {},
   "outputs": [
    {
     "name": "stdout",
     "output_type": "stream",
     "text": [
      "[10, 8, 6, 5, 3, 1]\n"
     ]
    }
   ],
   "source": [
    "a=list([10, 3, 5, 6, 1, 8])\n",
    "a.sort(reverse=True)\n",
    "print(a)"
   ]
  },
  {
   "cell_type": "markdown",
   "id": "dbbd2f32",
   "metadata": {},
   "source": [
    "# Numpy"
   ]
  },
  {
   "cell_type": "code",
   "execution_count": 27,
   "id": "e287561f",
   "metadata": {},
   "outputs": [
    {
     "name": "stdout",
     "output_type": "stream",
     "text": [
      "[1 2 3 4 5]   - type of a <class 'numpy.ndarray'>\n"
     ]
    }
   ],
   "source": [
    "import numpy as np\n",
    "\n",
    "a=np.array([1,2,3,4,5])\n",
    "print(a, \"  - type of a\", type(a))"
   ]
  },
  {
   "cell_type": "code",
   "execution_count": 28,
   "id": "088d01da",
   "metadata": {},
   "outputs": [
    {
     "name": "stdout",
     "output_type": "stream",
     "text": [
      "5\n"
     ]
    }
   ],
   "source": [
    "print(len(a))   # size of a"
   ]
  },
  {
   "cell_type": "markdown",
   "id": "baa5c613",
   "metadata": {},
   "source": [
    "... but *size* is also an *attribute* of *a*"
   ]
  },
  {
   "cell_type": "code",
   "execution_count": 29,
   "id": "fb972f0b",
   "metadata": {},
   "outputs": [
    {
     "name": "stdout",
     "output_type": "stream",
     "text": [
      "5\n"
     ]
    }
   ],
   "source": [
    "print(a.size)   # size is also an attribute of the array"
   ]
  },
  {
   "cell_type": "markdown",
   "id": "5ce23d76",
   "metadata": {},
   "source": [
    "The type of the array being created can be specified as the value of the keyword *dtype* of the *array* method:"
   ]
  },
  {
   "cell_type": "code",
   "execution_count": 30,
   "id": "69cfdd7a",
   "metadata": {},
   "outputs": [
    {
     "name": "stdout",
     "output_type": "stream",
     "text": [
      "[1. 2. 3. 4. 5.]\n"
     ]
    }
   ],
   "source": [
    "b=np.array([1,2,3,4,5], dtype=float)\n",
    "print(b)"
   ]
  },
  {
   "cell_type": "markdown",
   "id": "0511b0ec",
   "metadata": {},
   "source": [
    "Note that: "
   ]
  },
  {
   "cell_type": "code",
   "execution_count": 31,
   "id": "42bf9c9b",
   "metadata": {},
   "outputs": [
    {
     "name": "stdout",
     "output_type": "stream",
     "text": [
      "['1' '2' '3' '4' '5']\n"
     ]
    }
   ],
   "source": [
    "c=np.array([1,2,3,4,5],dtype=str)\n",
    "print(c)"
   ]
  },
  {
   "cell_type": "code",
   "execution_count": 32,
   "id": "be150127",
   "metadata": {},
   "outputs": [
    {
     "name": "stdout",
     "output_type": "stream",
     "text": [
      "[1. 2. 3. 4. 5.]\n"
     ]
    }
   ],
   "source": [
    "d=[1,2,3,4,5]\n",
    "d_np=np.array(d, dtype=float)\n",
    "print(d_np)"
   ]
  },
  {
   "cell_type": "code",
   "execution_count": 33,
   "id": "857d3dfb",
   "metadata": {},
   "outputs": [
    {
     "data": {
      "text/plain": [
       "array([1, 2, 3, 4, 5], dtype=int64)"
      ]
     },
     "execution_count": 33,
     "metadata": {},
     "output_type": "execute_result"
    }
   ],
   "source": [
    "d_int64=np.int64(d)\n",
    "d_int64"
   ]
  },
  {
   "cell_type": "markdown",
   "id": "2330d968",
   "metadata": {},
   "source": [
    "### The elements of a numpy array must be of the same type\n",
    "\n",
    "In case they are not, they are automatically converted into the appropriate type..."
   ]
  },
  {
   "cell_type": "code",
   "execution_count": 34,
   "id": "bc7fadb5",
   "metadata": {},
   "outputs": [
    {
     "name": "stdout",
     "output_type": "stream",
     "text": [
      "['1' '2.1' '3']\n"
     ]
    }
   ],
   "source": [
    "a=np.array([1,2.1,'3'])\n",
    "print(a)"
   ]
  },
  {
   "cell_type": "markdown",
   "id": "c8b06e3e",
   "metadata": {},
   "source": [
    "### Summing arrays *element wise* is very easy... (arrays must have the same size)"
   ]
  },
  {
   "cell_type": "code",
   "execution_count": 35,
   "id": "e873bc88",
   "metadata": {},
   "outputs": [
    {
     "name": "stdout",
     "output_type": "stream",
     "text": [
      "[ 6  8 10 12]\n"
     ]
    }
   ],
   "source": [
    "a=np.array([1,2,3,4])\n",
    "b=np.array([5,6,7,8])\n",
    "\n",
    "c=a+b\n",
    "print(c)"
   ]
  },
  {
   "cell_type": "markdown",
   "id": "9fd4c744",
   "metadata": {},
   "source": [
    "### Attributes of numpy arrays"
   ]
  },
  {
   "cell_type": "code",
   "execution_count": 36,
   "id": "c4a9d7ab",
   "metadata": {},
   "outputs": [
    {
     "name": "stdout",
     "output_type": "stream",
     "text": [
      "Size:   4\n",
      "Type:   int32\n",
      "Shape:  (4,)\n"
     ]
    }
   ],
   "source": [
    "print(\"Size:  \", a.size)\n",
    "print(\"Type:  \", a.dtype)\n",
    "print(\"Shape: \", a.shape)"
   ]
  },
  {
   "cell_type": "code",
   "execution_count": 37,
   "id": "8bb5bde2",
   "metadata": {},
   "outputs": [
    {
     "name": "stdout",
     "output_type": "stream",
     "text": [
      "[[1. 2. 3. 4.]\n",
      " [5. 6. 7. 8.]]\n",
      "\n",
      "Size:   8\n",
      "Type:   float64\n",
      "Shape:  (2, 4)\n"
     ]
    }
   ],
   "source": [
    "a=np.array([[1,2,3,4],[5,6,7,8]], dtype=np.float64)\n",
    "print(a)\n",
    "\n",
    "print(\"\\nSize:  \", a.size)\n",
    "print(\"Type:  \", a.dtype)\n",
    "print(\"Shape: \", a.shape)"
   ]
  },
  {
   "cell_type": "markdown",
   "id": "f6787860",
   "metadata": {},
   "source": [
    "### Array methods"
   ]
  },
  {
   "cell_type": "code",
   "execution_count": 38,
   "id": "671cf8d4",
   "metadata": {},
   "outputs": [
    {
     "name": "stdout",
     "output_type": "stream",
     "text": [
      "[[1. 2.]\n",
      " [3. 4.]\n",
      " [5. 6.]\n",
      " [7. 8.]]\n",
      "\n",
      "Size:   8\n",
      "Type:   float64\n",
      "Shape:  (4, 2)\n"
     ]
    }
   ],
   "source": [
    "a=a.reshape(4,2)\n",
    "\n",
    "print(a)\n",
    "\n",
    "print(\"\\nSize:  \", a.size)\n",
    "print(\"Type:  \", a.dtype)\n",
    "print(\"Shape: \", a.shape)"
   ]
  },
  {
   "cell_type": "code",
   "execution_count": 39,
   "id": "509bcd75",
   "metadata": {},
   "outputs": [
    {
     "data": {
      "text/plain": [
       "array([[1., 3., 5., 7.],\n",
       "       [2., 4., 6., 8.]])"
      ]
     },
     "execution_count": 39,
     "metadata": {},
     "output_type": "execute_result"
    }
   ],
   "source": [
    "a.transpose()"
   ]
  },
  {
   "cell_type": "code",
   "execution_count": 40,
   "id": "d86b7ec4",
   "metadata": {},
   "outputs": [
    {
     "data": {
      "text/plain": [
       "array([1., 2., 3., 4., 5., 6., 7., 8.])"
      ]
     },
     "execution_count": 40,
     "metadata": {},
     "output_type": "execute_result"
    }
   ],
   "source": [
    "a.flatten()"
   ]
  },
  {
   "cell_type": "code",
   "execution_count": 41,
   "id": "fd8f0d72",
   "metadata": {},
   "outputs": [
    {
     "name": "stdout",
     "output_type": "stream",
     "text": [
      "Max:   8.0\n",
      "Min:   1.0\n",
      "Mean:  4.5\n"
     ]
    }
   ],
   "source": [
    "print(\"Max:  \", a.max())\n",
    "print(\"Min:  \", a.min())\n",
    "print(\"Mean: \", a.mean())"
   ]
  },
  {
   "cell_type": "markdown",
   "id": "46b033c7",
   "metadata": {},
   "source": [
    "### Slicing"
   ]
  },
  {
   "cell_type": "code",
   "execution_count": 42,
   "id": "1d7a068d",
   "metadata": {},
   "outputs": [
    {
     "name": "stdout",
     "output_type": "stream",
     "text": [
      "[0, 1, 2, 3, 4, 5, 6, 7, 8, 9]\n"
     ]
    }
   ],
   "source": [
    "a=list(range(10))   # a Python list (it is not a numpy array)\n",
    "print(a)"
   ]
  },
  {
   "cell_type": "code",
   "execution_count": 43,
   "id": "26718c19",
   "metadata": {},
   "outputs": [
    {
     "name": "stdout",
     "output_type": "stream",
     "text": [
      "[1, 2, 3, 4]\n",
      "[5, 6, 7, 8]\n",
      "[0, 2, 4, 6, 8]\n",
      "[1, 3, 5, 7, 9]\n"
     ]
    }
   ],
   "source": [
    "print(a[1:5])\n",
    "print(a[5:-1])\n",
    "print(a[::2])\n",
    "print(a[1::2])"
   ]
  },
  {
   "cell_type": "markdown",
   "id": "cffb3a0b",
   "metadata": {},
   "source": [
    "Index -1 codes for the last but one element of the array"
   ]
  },
  {
   "cell_type": "code",
   "execution_count": 44,
   "id": "f1f04c32",
   "metadata": {},
   "outputs": [
    {
     "name": "stdout",
     "output_type": "stream",
     "text": [
      "[[ 0  1  2  3  4  5]\n",
      " [ 6  7  8  9 10 11]]\n"
     ]
    }
   ],
   "source": [
    "a=np.array([[0,1,2,3,4,5],[6,7,8,9,10,11]])\n",
    "print(a)"
   ]
  },
  {
   "cell_type": "markdown",
   "id": "2306bae0",
   "metadata": {},
   "source": [
    "Get the second row (row index 1) of the array: \n",
    "\n",
    "```\n",
    "a[1,:]\n",
    "\n",
    "```"
   ]
  },
  {
   "cell_type": "code",
   "execution_count": 45,
   "id": "dc69a9eb",
   "metadata": {},
   "outputs": [
    {
     "name": "stdout",
     "output_type": "stream",
     "text": [
      "[ 6  7  8  9 10 11]\n"
     ]
    }
   ],
   "source": [
    "print(a[1,:])"
   ]
  },
  {
   "cell_type": "markdown",
   "id": "42daa75f",
   "metadata": {},
   "source": [
    "Get the third colums (index 2) of the array"
   ]
  },
  {
   "cell_type": "code",
   "execution_count": 46,
   "id": "7ecd1a63",
   "metadata": {},
   "outputs": [
    {
     "name": "stdout",
     "output_type": "stream",
     "text": [
      "[2 8]\n"
     ]
    }
   ],
   "source": [
    "print(a[:,2])"
   ]
  },
  {
   "cell_type": "markdown",
   "id": "22364391",
   "metadata": {},
   "source": [
    "### Sorting numpy arrays "
   ]
  },
  {
   "cell_type": "code",
   "execution_count": 47,
   "id": "39cbc612",
   "metadata": {},
   "outputs": [
    {
     "name": "stdout",
     "output_type": "stream",
     "text": [
      "Original array:  [1 3 5 2 8 7 6 9 4]\n",
      "Sorted array:    [1 2 3 4 5 6 7 8 9]\n"
     ]
    }
   ],
   "source": [
    "a=np.array([1,3,5,2,8,7,6,9,4])\n",
    "print(\"Original array: \", a)\n",
    "\n",
    "a.sort()\n",
    "print(\"Sorted array:   \", a)"
   ]
  },
  {
   "cell_type": "markdown",
   "id": "0a9b6c89",
   "metadata": {},
   "source": [
    "Note in the following the use of the *np.sort* function:"
   ]
  },
  {
   "cell_type": "code",
   "execution_count": 48,
   "id": "2edeff42",
   "metadata": {},
   "outputs": [
    {
     "name": "stdout",
     "output_type": "stream",
     "text": [
      "Original array:  [1 3 5 2 8 7 6 9 4]\n",
      "Sorted array:    [1 2 3 4 5 6 7 8 9]\n",
      "Original array is not modified:  [1 3 5 2 8 7 6 9 4]\n"
     ]
    }
   ],
   "source": [
    "a=np.array([1,3,5,2,8,7,6,9,4])\n",
    "print(\"Original array: \", a)\n",
    "print(\"Sorted array:   \", np.sort(a))\n",
    "print(\"Original array is not modified: \", a)"
   ]
  },
  {
   "cell_type": "markdown",
   "id": "416ca37e",
   "metadata": {},
   "source": [
    "*Reverse* ordering:"
   ]
  },
  {
   "cell_type": "code",
   "execution_count": 49,
   "id": "3e88f49d",
   "metadata": {},
   "outputs": [
    {
     "name": "stdout",
     "output_type": "stream",
     "text": [
      "Reverse sorting:  [9 8 7 6 5 3 2 1]\n"
     ]
    }
   ],
   "source": [
    "a=np.array([3,2,1,5,9,8,6,7])\n",
    "a_reverse=np.sort(a)[::-1]\n",
    "\n",
    "print(\"Reverse sorting: \", a_reverse)"
   ]
  },
  {
   "cell_type": "markdown",
   "id": "c5b5f713",
   "metadata": {},
   "source": [
    "*Positions* of the elements in the array, from the minimum to the maximum one"
   ]
  },
  {
   "cell_type": "code",
   "execution_count": 50,
   "id": "0da41258",
   "metadata": {},
   "outputs": [
    {
     "name": "stdout",
     "output_type": "stream",
     "text": [
      "Positions:  [0 3 1 8 2 6 5 4 7]\n"
     ]
    }
   ],
   "source": [
    "a=np.array([1,3,5,2,8,7,6,9,4])\n",
    "pos=np.argsort(a)\n",
    "print(\"Positions: \", pos)"
   ]
  },
  {
   "cell_type": "markdown",
   "id": "c86e1d0b",
   "metadata": {},
   "source": [
    "The *pos* array can then be used to draw elements from the original array, to sort it:"
   ]
  },
  {
   "cell_type": "code",
   "execution_count": 51,
   "id": "dc2f6ba6",
   "metadata": {},
   "outputs": [
    {
     "name": "stdout",
     "output_type": "stream",
     "text": [
      "Sorted array:  [1 2 3 4 5 6 7 8 9]\n"
     ]
    }
   ],
   "source": [
    "print(\"Sorted array: \", a[pos])"
   ]
  },
  {
   "cell_type": "markdown",
   "id": "71dac860",
   "metadata": {},
   "source": [
    "#### Using argsort to sort a 2-dimensional array"
   ]
  },
  {
   "cell_type": "code",
   "execution_count": 52,
   "id": "796cf4cd",
   "metadata": {},
   "outputs": [
    {
     "data": {
      "text/plain": [
       "array([[ 5,  3,  1,  0,  4,  2],\n",
       "       [25,  9,  1,  0, 16,  4]])"
      ]
     },
     "execution_count": 52,
     "metadata": {},
     "output_type": "execute_result"
    }
   ],
   "source": [
    "a=np.array([[5, 3, 1, 0, 4, 2], [25, 9, 1, 0, 16, 4]]) \n",
    "a"
   ]
  },
  {
   "cell_type": "code",
   "execution_count": 53,
   "id": "c83c826f",
   "metadata": {},
   "outputs": [
    {
     "name": "stdout",
     "output_type": "stream",
     "text": [
      "[[ 0  1  2  3  4  5]\n",
      " [ 0  1  4  9 16 25]]\n"
     ]
    }
   ],
   "source": [
    "pos=np.argsort(a[0,:])\n",
    "\n",
    "a1=np.sort(a[0,:])\n",
    "a2=a[1,pos]\n",
    "a_sorted=np.concatenate(([a1], [a2]))\n",
    "print(a_sorted)"
   ]
  },
  {
   "cell_type": "markdown",
   "id": "4605227f",
   "metadata": {},
   "source": [
    "### Minimum and maximum of an array"
   ]
  },
  {
   "cell_type": "code",
   "execution_count": 54,
   "id": "99edee35",
   "metadata": {},
   "outputs": [
    {
     "name": "stdout",
     "output_type": "stream",
     "text": [
      "Minimum of a:  1    - position:  0\n",
      "Maximum of a:  9    - position:  7\n"
     ]
    }
   ],
   "source": [
    "a=np.array([1,3,5,2,8,7,6,9,4])\n",
    "\n",
    "a_min=np.min(a)\n",
    "a_min_pos=np.argmin(a)\n",
    "\n",
    "a_max=np.max(a)\n",
    "a_max_pos=np.argmax(a)\n",
    "\n",
    "print(\"Minimum of a: \", a_min, \"   - position: \", a_min_pos)\n",
    "print(\"Maximum of a: \", a_max, \"   - position: \", a_max_pos)"
   ]
  },
  {
   "cell_type": "markdown",
   "id": "72635a20",
   "metadata": {},
   "source": [
    "#### A simple example: findind the minimum of a simple function in a specified X range\n",
    "\n",
    "$y(x)=2x^4-11x^3+10x^2-3x+90$"
   ]
  },
  {
   "cell_type": "code",
   "execution_count": 55,
   "id": "067038b9",
   "metadata": {},
   "outputs": [
    {
     "name": "stdout",
     "output_type": "stream",
     "text": [
      "X at which Y is minimum: 3.44\n"
     ]
    },
    {
     "data": {
      "image/png": "[encoded data removed]",
      "text/plain": [
       "<Figure size 576x432 with 1 Axes>"
      ]
     },
     "metadata": {
      "needs_background": "light"
     },
     "output_type": "display_data"
    }
   ],
   "source": [
    "%matplotlib inline\n",
    "\n",
    "import matplotlib.pyplot as plt\n",
    "\n",
    "x=np.linspace(-2,5.0,100)\n",
    "y=2*x**4-11*x**3+10*x**2-3*x+90\n",
    "\n",
    "y_min=np.min(y)\n",
    "y_min_pos=np.argmin(y)\n",
    "x_min=x[y_min_pos]\n",
    "\n",
    "print(\"X at which Y is minimum: %3.2f\" % x_min)\n",
    "\n",
    "y0=y_min-30\n",
    "px=(x_min,x_min)\n",
    "py=(y0,y_min)\n",
    "\n",
    "plt.figure(figsize=(8,6))\n",
    "plt.plot(x,y)\n",
    "plt.plot(px,py,\"k--\")\n",
    "plt.xlabel(\"X\")\n",
    "plt.ylabel(\"Y\")\n",
    "plt.ylim(y0,np.max(y)+10)\n",
    "plt.show()"
   ]
  }
 ],
 "metadata": {
  "kernelspec": {
   "display_name": "Python 3 (ipykernel)",
   "language": "python",
   "name": "python3"
  },
  "language_info": {
   "codemirror_mode": {
    "name": "ipython",
    "version": 3
   },
   "file_extension": ".py",
   "mimetype": "text/x-python",
   "name": "python",
   "nbconvert_exporter": "python",
   "pygments_lexer": "ipython3",
   "version": "3.8.5"
  },
  "latex_envs": {
   "LaTeX_envs_menu_present": true,
   "autoclose": false,
   "autocomplete": true,
   "bibliofile": "biblio.bib",
   "cite_by": "apalike",
   "current_citInitial": 1,
   "eqLabelWithNumbers": true,
   "eqNumInitial": 1,
   "hotkeys": {
    "equation": "Ctrl-E",
    "itemize": "Ctrl-I"
   },
   "labels_anchors": false,
   "latex_user_defs": false,
   "report_style_numbering": false,
   "user_envs_cfg": false
  }
 },
 "nbformat": 4,
 "nbformat_minor": 5
}
