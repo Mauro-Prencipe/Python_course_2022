{
 "cells": [
  {
   "cell_type": "markdown",
   "id": "a50b43c0",
   "metadata": {},
   "source": [
    "### Richter law: an easy example of numpy *polyfit*\n",
    "\n",
    "Revised version"
   ]
  },
  {
   "cell_type": "code",
   "execution_count": 1,
   "id": "5f585b66",
   "metadata": {},
   "outputs": [],
   "source": [
    "import pandas as pd  # import the Pandas library with the alias 'pd'\n",
    "import numpy as np\n",
    "import matplotlib.pyplot as plt"
   ]
  },
  {
   "cell_type": "markdown",
   "id": "af6bb16a",
   "metadata": {},
   "source": [
    "Seismic data (INGV) concerning a circular area around Catania (radius: 100 km), in the last 5 years.  "
   ]
  },
  {
   "cell_type": "code",
   "execution_count": 2,
   "id": "45839d3a",
   "metadata": {},
   "outputs": [
    {
     "data": {
      "text/html": [
       "<div>\n",
       "<style scoped>\n",
       "    .dataframe tbody tr th:only-of-type {\n",
       "        vertical-align: middle;\n",
       "    }\n",
       "\n",
       "    .dataframe tbody tr th {\n",
       "        vertical-align: top;\n",
       "    }\n",
       "\n",
       "    .dataframe thead th {\n",
       "        text-align: right;\n",
       "    }\n",
       "</style>\n",
       "<table border=\"1\" class=\"dataframe\">\n",
       "  <thead>\n",
       "    <tr style=\"text-align: right;\">\n",
       "      <th></th>\n",
       "      <th>#EventID</th>\n",
       "      <th>Latitude</th>\n",
       "      <th>Longitude</th>\n",
       "      <th>Depth/Km</th>\n",
       "      <th>Catalog</th>\n",
       "      <th>Contributor</th>\n",
       "      <th>ContributorID</th>\n",
       "      <th>Magnitude</th>\n",
       "    </tr>\n",
       "  </thead>\n",
       "  <tbody>\n",
       "    <tr>\n",
       "      <th>count</th>\n",
       "      <td>7.262000e+03</td>\n",
       "      <td>7262.000000</td>\n",
       "      <td>7262.000000</td>\n",
       "      <td>7262.000000</td>\n",
       "      <td>0.0</td>\n",
       "      <td>0.0</td>\n",
       "      <td>0.0</td>\n",
       "      <td>7262.000000</td>\n",
       "    </tr>\n",
       "    <tr>\n",
       "      <th>mean</th>\n",
       "      <td>2.282544e+07</td>\n",
       "      <td>37.806956</td>\n",
       "      <td>15.020027</td>\n",
       "      <td>15.529221</td>\n",
       "      <td>NaN</td>\n",
       "      <td>NaN</td>\n",
       "      <td>NaN</td>\n",
       "      <td>1.731038</td>\n",
       "    </tr>\n",
       "    <tr>\n",
       "      <th>std</th>\n",
       "      <td>3.771171e+06</td>\n",
       "      <td>0.261716</td>\n",
       "      <td>0.314322</td>\n",
       "      <td>18.918580</td>\n",
       "      <td>NaN</td>\n",
       "      <td>NaN</td>\n",
       "      <td>NaN</td>\n",
       "      <td>0.518574</td>\n",
       "    </tr>\n",
       "    <tr>\n",
       "      <th>min</th>\n",
       "      <td>1.259293e+07</td>\n",
       "      <td>36.612700</td>\n",
       "      <td>14.011700</td>\n",
       "      <td>-0.300000</td>\n",
       "      <td>NaN</td>\n",
       "      <td>NaN</td>\n",
       "      <td>NaN</td>\n",
       "      <td>0.200000</td>\n",
       "    </tr>\n",
       "    <tr>\n",
       "      <th>25%</th>\n",
       "      <td>2.079282e+07</td>\n",
       "      <td>37.714225</td>\n",
       "      <td>14.909400</td>\n",
       "      <td>7.000000</td>\n",
       "      <td>NaN</td>\n",
       "      <td>NaN</td>\n",
       "      <td>NaN</td>\n",
       "      <td>1.400000</td>\n",
       "    </tr>\n",
       "    <tr>\n",
       "      <th>50%</th>\n",
       "      <td>2.320111e+07</td>\n",
       "      <td>37.755000</td>\n",
       "      <td>15.020000</td>\n",
       "      <td>9.900000</td>\n",
       "      <td>NaN</td>\n",
       "      <td>NaN</td>\n",
       "      <td>NaN</td>\n",
       "      <td>1.700000</td>\n",
       "    </tr>\n",
       "    <tr>\n",
       "      <th>75%</th>\n",
       "      <td>2.581441e+07</td>\n",
       "      <td>37.988600</td>\n",
       "      <td>15.126700</td>\n",
       "      <td>20.900000</td>\n",
       "      <td>NaN</td>\n",
       "      <td>NaN</td>\n",
       "      <td>NaN</td>\n",
       "      <td>2.000000</td>\n",
       "    </tr>\n",
       "    <tr>\n",
       "      <th>max</th>\n",
       "      <td>2.948684e+07</td>\n",
       "      <td>38.397000</td>\n",
       "      <td>16.213200</td>\n",
       "      <td>202.600000</td>\n",
       "      <td>NaN</td>\n",
       "      <td>NaN</td>\n",
       "      <td>NaN</td>\n",
       "      <td>4.900000</td>\n",
       "    </tr>\n",
       "  </tbody>\n",
       "</table>\n",
       "</div>"
      ],
      "text/plain": [
       "           #EventID     Latitude    Longitude     Depth/Km  Catalog  \\\n",
       "count  7.262000e+03  7262.000000  7262.000000  7262.000000      0.0   \n",
       "mean   2.282544e+07    37.806956    15.020027    15.529221      NaN   \n",
       "std    3.771171e+06     0.261716     0.314322    18.918580      NaN   \n",
       "min    1.259293e+07    36.612700    14.011700    -0.300000      NaN   \n",
       "25%    2.079282e+07    37.714225    14.909400     7.000000      NaN   \n",
       "50%    2.320111e+07    37.755000    15.020000     9.900000      NaN   \n",
       "75%    2.581441e+07    37.988600    15.126700    20.900000      NaN   \n",
       "max    2.948684e+07    38.397000    16.213200   202.600000      NaN   \n",
       "\n",
       "       Contributor  ContributorID    Magnitude  \n",
       "count          0.0            0.0  7262.000000  \n",
       "mean           NaN            NaN     1.731038  \n",
       "std            NaN            NaN     0.518574  \n",
       "min            NaN            NaN     0.200000  \n",
       "25%            NaN            NaN     1.400000  \n",
       "50%            NaN            NaN     1.700000  \n",
       "75%            NaN            NaN     2.000000  \n",
       "max            NaN            NaN     4.900000  "
      ]
     },
     "execution_count": 2,
     "metadata": {},
     "output_type": "execute_result"
    }
   ],
   "source": [
    "catania=pd.read_csv('data_files/catania_5.dat', sep='|')\n",
    "catania.describe()"
   ]
  },
  {
   "cell_type": "code",
   "execution_count": 3,
   "id": "13921e00",
   "metadata": {},
   "outputs": [
    {
     "data": {
      "text/html": [
       "<div>\n",
       "<style scoped>\n",
       "    .dataframe tbody tr th:only-of-type {\n",
       "        vertical-align: middle;\n",
       "    }\n",
       "\n",
       "    .dataframe tbody tr th {\n",
       "        vertical-align: top;\n",
       "    }\n",
       "\n",
       "    .dataframe thead th {\n",
       "        text-align: right;\n",
       "    }\n",
       "</style>\n",
       "<table border=\"1\" class=\"dataframe\">\n",
       "  <thead>\n",
       "    <tr style=\"text-align: right;\">\n",
       "      <th></th>\n",
       "      <th>#EventID</th>\n",
       "      <th>Time</th>\n",
       "      <th>Latitude</th>\n",
       "      <th>Longitude</th>\n",
       "      <th>Depth/Km</th>\n",
       "      <th>Author</th>\n",
       "      <th>Catalog</th>\n",
       "      <th>Contributor</th>\n",
       "      <th>ContributorID</th>\n",
       "      <th>MagType</th>\n",
       "      <th>Magnitude</th>\n",
       "      <th>MagAuthor</th>\n",
       "      <th>EventLocationName</th>\n",
       "      <th>EventType</th>\n",
       "    </tr>\n",
       "  </thead>\n",
       "  <tbody>\n",
       "    <tr>\n",
       "      <th>0</th>\n",
       "      <td>12592931</td>\n",
       "      <td>2017-01-12T23:33:32.130000</td>\n",
       "      <td>38.1677</td>\n",
       "      <td>15.7337</td>\n",
       "      <td>12.2</td>\n",
       "      <td>BULLETIN-INGV</td>\n",
       "      <td>NaN</td>\n",
       "      <td>NaN</td>\n",
       "      <td>NaN</td>\n",
       "      <td>ML</td>\n",
       "      <td>1.3</td>\n",
       "      <td>--</td>\n",
       "      <td>1 km SW Laganadi (RC)</td>\n",
       "      <td>earthquake</td>\n",
       "    </tr>\n",
       "    <tr>\n",
       "      <th>1</th>\n",
       "      <td>12611381</td>\n",
       "      <td>2017-01-13T16:00:57.190000</td>\n",
       "      <td>37.8542</td>\n",
       "      <td>15.5727</td>\n",
       "      <td>31.6</td>\n",
       "      <td>BULLETIN-INGV</td>\n",
       "      <td>NaN</td>\n",
       "      <td>NaN</td>\n",
       "      <td>NaN</td>\n",
       "      <td>ML</td>\n",
       "      <td>1.9</td>\n",
       "      <td>--</td>\n",
       "      <td>Stretto di Messina (Reggio di Calabria, Messina)</td>\n",
       "      <td>earthquake</td>\n",
       "    </tr>\n",
       "    <tr>\n",
       "      <th>2</th>\n",
       "      <td>12649751</td>\n",
       "      <td>2017-01-15T06:35:42.660000</td>\n",
       "      <td>38.1608</td>\n",
       "      <td>15.7332</td>\n",
       "      <td>12.4</td>\n",
       "      <td>BULLETIN-INGV</td>\n",
       "      <td>NaN</td>\n",
       "      <td>NaN</td>\n",
       "      <td>NaN</td>\n",
       "      <td>ML</td>\n",
       "      <td>1.5</td>\n",
       "      <td>--</td>\n",
       "      <td>2 km SW Laganadi (RC)</td>\n",
       "      <td>earthquake</td>\n",
       "    </tr>\n",
       "    <tr>\n",
       "      <th>3</th>\n",
       "      <td>12653941</td>\n",
       "      <td>2017-01-15T11:43:46.030000</td>\n",
       "      <td>38.1673</td>\n",
       "      <td>15.7302</td>\n",
       "      <td>12.4</td>\n",
       "      <td>BULLETIN-INGV</td>\n",
       "      <td>NaN</td>\n",
       "      <td>NaN</td>\n",
       "      <td>NaN</td>\n",
       "      <td>ML</td>\n",
       "      <td>1.1</td>\n",
       "      <td>--</td>\n",
       "      <td>1 km SW Laganadi (RC)</td>\n",
       "      <td>earthquake</td>\n",
       "    </tr>\n",
       "    <tr>\n",
       "      <th>4</th>\n",
       "      <td>12675381</td>\n",
       "      <td>2017-01-16T15:34:14.520000</td>\n",
       "      <td>38.2543</td>\n",
       "      <td>15.0813</td>\n",
       "      <td>8.9</td>\n",
       "      <td>BULLETIN-INGV</td>\n",
       "      <td>NaN</td>\n",
       "      <td>NaN</td>\n",
       "      <td>NaN</td>\n",
       "      <td>ML</td>\n",
       "      <td>1.8</td>\n",
       "      <td>--</td>\n",
       "      <td>Costa Siciliana nord-orientale (Messina)</td>\n",
       "      <td>earthquake</td>\n",
       "    </tr>\n",
       "  </tbody>\n",
       "</table>\n",
       "</div>"
      ],
      "text/plain": [
       "   #EventID                        Time  Latitude  Longitude  Depth/Km  \\\n",
       "0  12592931  2017-01-12T23:33:32.130000   38.1677    15.7337      12.2   \n",
       "1  12611381  2017-01-13T16:00:57.190000   37.8542    15.5727      31.6   \n",
       "2  12649751  2017-01-15T06:35:42.660000   38.1608    15.7332      12.4   \n",
       "3  12653941  2017-01-15T11:43:46.030000   38.1673    15.7302      12.4   \n",
       "4  12675381  2017-01-16T15:34:14.520000   38.2543    15.0813       8.9   \n",
       "\n",
       "          Author  Catalog  Contributor  ContributorID MagType  Magnitude  \\\n",
       "0  BULLETIN-INGV      NaN          NaN            NaN      ML        1.3   \n",
       "1  BULLETIN-INGV      NaN          NaN            NaN      ML        1.9   \n",
       "2  BULLETIN-INGV      NaN          NaN            NaN      ML        1.5   \n",
       "3  BULLETIN-INGV      NaN          NaN            NaN      ML        1.1   \n",
       "4  BULLETIN-INGV      NaN          NaN            NaN      ML        1.8   \n",
       "\n",
       "  MagAuthor                                 EventLocationName   EventType  \n",
       "0        --                             1 km SW Laganadi (RC)  earthquake  \n",
       "1        --  Stretto di Messina (Reggio di Calabria, Messina)  earthquake  \n",
       "2        --                             2 km SW Laganadi (RC)  earthquake  \n",
       "3        --                             1 km SW Laganadi (RC)  earthquake  \n",
       "4        --          Costa Siciliana nord-orientale (Messina)  earthquake  "
      ]
     },
     "execution_count": 3,
     "metadata": {},
     "output_type": "execute_result"
    }
   ],
   "source": [
    "catania.head()"
   ]
  },
  {
   "cell_type": "markdown",
   "id": "e17aa516",
   "metadata": {},
   "source": [
    "Select magnitude and depth of each event and make histograms "
   ]
  },
  {
   "cell_type": "code",
   "execution_count": 4,
   "id": "c5bb5fd1",
   "metadata": {},
   "outputs": [
    {
     "data": {
      "text/plain": [
       "<AxesSubplot:>"
      ]
     },
     "execution_count": 4,
     "metadata": {},
     "output_type": "execute_result"
    },
    {
     "data": {
      "image/png": "[encoded data removed]",
      "text/plain": [
       "<Figure size 432x288 with 1 Axes>"
      ]
     },
     "metadata": {
      "needs_background": "light"
     },
     "output_type": "display_data"
    }
   ],
   "source": [
    "catania_mag=catania['Magnitude']\n",
    "catania_mag.hist(bins=20)"
   ]
  },
  {
   "cell_type": "markdown",
   "id": "a7f1d184",
   "metadata": {},
   "source": [
    "All of the relevant data, previously loaded with Pandas, are now converted into numpy arrays by using the *to_numpy* method of the *DataFrame* or *DataSerie* Pandas objects:"
   ]
  },
  {
   "cell_type": "code",
   "execution_count": 5,
   "id": "7458f06b",
   "metadata": {},
   "outputs": [],
   "source": [
    "# Transform the pandas Serie into a numpy array\n",
    "catania_mag_np=catania_mag.to_numpy()\n",
    "\n",
    "# Set minimum and maximum magnitude of the events \n",
    "min_mag=2.\n",
    "max_mag=3.5\n",
    "\n",
    "# Select the events having magnitude in the chosen range\n",
    "cases=np.where((catania_mag_np >= min_mag) & (catania_mag_np <= max_mag))\n",
    "catania_mag_np_lim=catania_mag_np[cases]"
   ]
  },
  {
   "cell_type": "code",
   "execution_count": 7,
   "id": "0b24ce2e",
   "metadata": {},
   "outputs": [
    {
     "data": {
      "text/plain": [
       "array([2. , 2. , 3.4, ..., 2.3, 2. , 2.1])"
      ]
     },
     "execution_count": 7,
     "metadata": {},
     "output_type": "execute_result"
    }
   ],
   "source": [
    "catania_mag_np_lim"
   ]
  },
  {
   "cell_type": "markdown",
   "id": "7113bfac",
   "metadata": {},
   "source": [
    "Now, by using the numpy *histogram* function, we create a *numerical* histogram, by subdividing the seismic events in *channels* (generally named *bins*) according to their respective magnitudes. The higher the number of *bins*, the higher the *resolution* of the histogram: "
   ]
  },
  {
   "cell_type": "code",
   "execution_count": 14,
   "id": "a100a674",
   "metadata": {},
   "outputs": [
    {
     "name": "stdout",
     "output_type": "stream",
     "text": [
      "[2.   2.05 2.1  2.15 2.2  2.25 2.3  2.35 2.4  2.45 2.5  2.55 2.6  2.65\n",
      " 2.7  2.75 2.8  2.85 2.9  2.95 3.   3.05 3.1  3.15 3.2  3.25 3.3  3.35\n",
      " 3.4  3.45 3.5 ]\n",
      "[404   0 358   0 303   0 270   0 169   0 149   0 116   0  88   0  64   0\n",
      "  54   0  42   0  35   0  27   0  20  17   0   9]\n"
     ]
    }
   ],
   "source": [
    "# Compute a numerical histogram with a given number of bins (resolution)\n",
    "n_bin=30\n",
    "mag_bins=np.histogram(catania_mag_np_lim, bins=n_bin)\n",
    "\n",
    "# Store magnitude and number of events (from the histogram) in\n",
    "# separated numpy arrays \n",
    "bin_mag_val=mag_bins[1]\n",
    "bin_mag_count=mag_bins[0]\n",
    "\n",
    "print(bin_mag_val)\n",
    "print(bin_mag_count)"
   ]
  },
  {
   "cell_type": "markdown",
   "id": "0f4d143d",
   "metadata": {},
   "source": [
    "Pay attention to the zeros..."
   ]
  },
  {
   "cell_type": "code",
   "execution_count": 15,
   "id": "526ccbeb",
   "metadata": {},
   "outputs": [
    {
     "name": "stderr",
     "output_type": "stream",
     "text": [
      "C:\\Users\\Utente\\AppData\\Local\\Temp/ipykernel_15084/4219721271.py:1: RuntimeWarning: divide by zero encountered in log10\n",
      "  bin_mag_count_log=np.log10(bin_mag_count)\n"
     ]
    }
   ],
   "source": [
    "bin_mag_count_log=np.log10(bin_mag_count)"
   ]
  },
  {
   "cell_type": "markdown",
   "id": "f0fb8555",
   "metadata": {},
   "source": [
    "So, start to find the indexes of the *bin_mag_count* array corresponding to the *non zero* values:"
   ]
  },
  {
   "cell_type": "code",
   "execution_count": 16,
   "id": "5a81dd43",
   "metadata": {},
   "outputs": [],
   "source": [
    "pos=np.where(bin_mag_count != 0)"
   ]
  },
  {
   "cell_type": "code",
   "execution_count": 17,
   "id": "b84834db",
   "metadata": {},
   "outputs": [
    {
     "data": {
      "text/plain": [
       "(array([ 0,  2,  4,  6,  8, 10, 12, 14, 16, 18, 20, 22, 24, 26, 27, 29],\n",
       "       dtype=int64),)"
      ]
     },
     "execution_count": 17,
     "metadata": {},
     "output_type": "execute_result"
    }
   ],
   "source": [
    "pos"
   ]
  },
  {
   "cell_type": "markdown",
   "id": "d75d2c63",
   "metadata": {},
   "source": [
    "Then use pos to select the values:"
   ]
  },
  {
   "cell_type": "code",
   "execution_count": 18,
   "id": "df0a8280",
   "metadata": {},
   "outputs": [
    {
     "name": "stdout",
     "output_type": "stream",
     "text": [
      "[404 358 303 270 169 149 116  88  64  54  42  35  27  20  17   9]\n"
     ]
    }
   ],
   "source": [
    "bin_mag_count=bin_mag_count[pos]\n",
    "bin_mag_val=bin_mag_val[pos]\n",
    "\n",
    "print(bin_mag_count)"
   ]
  },
  {
   "cell_type": "code",
   "execution_count": 19,
   "id": "3efb5966",
   "metadata": {},
   "outputs": [
    {
     "data": {
      "image/png": "[encoded data removed]",
      "text/plain": [
       "<Figure size 432x288 with 1 Axes>"
      ]
     },
     "metadata": {
      "needs_background": "light"
     },
     "output_type": "display_data"
    }
   ],
   "source": [
    "bin_mag_count_log=np.log10(bin_mag_count)\n",
    "\n",
    "plt.figure()\n",
    "plt.plot(bin_mag_val, bin_mag_count_log, \"k*\")\n",
    "plt.show()"
   ]
  },
  {
   "cell_type": "markdown",
   "id": "27b1c878",
   "metadata": {},
   "source": [
    "Count the number of event for each value of the magnitude found in the DataSerie:"
   ]
  },
  {
   "cell_type": "markdown",
   "id": "71ee8898",
   "metadata": {},
   "source": [
    "Now, we make a ***linear regression*** of the two plotted variables above, by using the numpy function *polyfit*. results from *polyfit* (coefficients of regression) are stored in the array *fit*: "
   ]
  },
  {
   "cell_type": "code",
   "execution_count": 20,
   "id": "25ef9995",
   "metadata": {},
   "outputs": [
    {
     "name": "stdout",
     "output_type": "stream",
     "text": [
      "<class 'numpy.ndarray'> [-1.08847191  4.8681236 ]\n"
     ]
    }
   ],
   "source": [
    "fit, cov=np.polyfit(bin_mag_val, bin_mag_count_log, 1, cov=True)\n",
    "\n",
    "print(type(fit), fit)"
   ]
  },
  {
   "cell_type": "markdown",
   "id": "47999236",
   "metadata": {},
   "source": [
    "Print of the covariance matrix:"
   ]
  },
  {
   "cell_type": "code",
   "execution_count": 21,
   "id": "514e98d4",
   "metadata": {},
   "outputs": [
    {
     "name": "stdout",
     "output_type": "stream",
     "text": [
      "[[ 0.00101753 -0.00279185]\n",
      " [-0.00279185  0.00786774]]\n"
     ]
    }
   ],
   "source": [
    "print(cov)"
   ]
  },
  {
   "cell_type": "markdown",
   "id": "fb81a396",
   "metadata": {},
   "source": [
    "Now, we want to check the fit, by plotting the actual data along with the regression line. In principle, since we have to plot a line, two points only would be required; however, to show the general case, \n",
    "\n",
    "- we generate an array of values of the independent values (the magnitude, *mag_plot*) by using the numpy function *linspace* \n",
    "- we use the numpy function *polyval* to compute the corrisponding log of the number of events (from the *fit* polyfit array) "
   ]
  },
  {
   "cell_type": "code",
   "execution_count": 22,
   "id": "47fe1330",
   "metadata": {},
   "outputs": [],
   "source": [
    "npoint=10\n",
    "mag_plot=np.linspace(min_mag, max_mag, npoint)\n",
    "mag_count_plot=np.polyval(fit, mag_plot)"
   ]
  },
  {
   "cell_type": "markdown",
   "id": "122a9f76",
   "metadata": {},
   "source": [
    "Lastly, we generate the plot: "
   ]
  },
  {
   "cell_type": "code",
   "execution_count": 30,
   "id": "cc572ebd",
   "metadata": {},
   "outputs": [
    {
     "data": {
      "image/png": "[encoded data removed]",
      "text/plain": [
       "<Figure size 432x288 with 1 Axes>"
      ]
     },
     "metadata": {
      "needs_background": "light"
     },
     "output_type": "display_data"
    }
   ],
   "source": [
    "plt.figure()\n",
    "plt.plot(mag_plot, mag_count_plot, \"k-.\", label=\"Linear regression\")\n",
    "plt.plot(bin_mag_val, bin_mag_count_log, \"k*\", label=\"Actual values\")\n",
    "plt.xlabel('Magnitude')\n",
    "plt.ylabel('Log count')\n",
    "plt.title('Richter Law')\n",
    "plt.legend(frameon=False)\n",
    "plt.show()"
   ]
  },
  {
   "cell_type": "markdown",
   "id": "64bdbe8d",
   "metadata": {},
   "source": [
    "### Exercise\n",
    "\n",
    "Restructure the whole procedure in the form of functions or, better yet, by using classes..."
   ]
  },
  {
   "cell_type": "code",
   "execution_count": null,
   "id": "fa02849b",
   "metadata": {},
   "outputs": [],
   "source": []
  }
 ],
 "metadata": {
  "kernelspec": {
   "display_name": "Python 3 (ipykernel)",
   "language": "python",
   "name": "python3"
  },
  "language_info": {
   "codemirror_mode": {
    "name": "ipython",
    "version": 3
   },
   "file_extension": ".py",
   "mimetype": "text/x-python",
   "name": "python",
   "nbconvert_exporter": "python",
   "pygments_lexer": "ipython3",
   "version": "3.9.7"
  },
  "latex_envs": {
   "LaTeX_envs_menu_present": true,
   "autoclose": false,
   "autocomplete": true,
   "bibliofile": "biblio.bib",
   "cite_by": "apalike",
   "current_citInitial": 1,
   "eqLabelWithNumbers": true,
   "eqNumInitial": 1,
   "hotkeys": {
    "equation": "Ctrl-E",
    "itemize": "Ctrl-I"
   },
   "labels_anchors": false,
   "latex_user_defs": false,
   "report_style_numbering": false,
   "user_envs_cfg": false
  }
 },
 "nbformat": 4,
 "nbformat_minor": 5
}
