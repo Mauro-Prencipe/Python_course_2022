{
 "cells": [
  {
   "cell_type": "markdown",
   "id": "29982e32",
   "metadata": {},
   "source": [
    "### Classes and Object Oriented Programming (OOP)"
   ]
  },
  {
   "cell_type": "markdown",
   "id": "29e85f20",
   "metadata": {},
   "source": [
    "Imagine that you want to store some *fundamental constant* in a program, that can be accessed at the global level, without the risk to shadow or destroy them, by redefinition, in some other part of the program.\n",
    "\n",
    "You can do that by build a specific *class* that stores those numbers: "
   ]
  },
  {
   "cell_type": "code",
   "execution_count": 1,
   "id": "abdb3a4b",
   "metadata": {},
   "outputs": [],
   "source": [
    "class constant_class():\n",
    "    def __init__(self):\n",
    "       self.h=6.62607e-34      # Planck\n",
    "       self.k=1.38065e-23      # Boltzmann\n",
    "       self.avo=6.02214e23     # Avogadro\n",
    "       self.R=self.avo*self.k  # Gas constant"
   ]
  },
  {
   "cell_type": "markdown",
   "id": "b2f88133",
   "metadata": {},
   "source": [
    "We defined the *class* *constant_class*. The *class* definition, at this level, is very much like a *function definition* (with an empty list of arguments, for now). \n",
    "\n",
    "Inside the class, we defined an ``` __init__ ``` function, with a strange argument *self* (*self* is a label that refers to the definition of the class, and that will be substituted by the label specifying each single *instance* of the class itself. \n",
    "\n",
    "The body of *init* consists of the assignment of our fundamental constants (in the standard SI units), each one preceded by the label *self*. Our constants will be the *attributes* of the class.\n",
    "\n",
    "To use the class, we first have to create an *instance* of it. We call *fc* such instance:"
   ]
  },
  {
   "cell_type": "code",
   "execution_count": 2,
   "id": "38fca6bc",
   "metadata": {},
   "outputs": [],
   "source": [
    "fc=constant_class()"
   ]
  },
  {
   "cell_type": "markdown",
   "id": "9414d498",
   "metadata": {},
   "source": [
    "Now, the retrieve the Avogadro number, you just have to write:"
   ]
  },
  {
   "cell_type": "code",
   "execution_count": 3,
   "id": "69f744ad",
   "metadata": {},
   "outputs": [
    {
     "data": {
      "text/plain": [
       "6.02214e+23"
      ]
     },
     "execution_count": 3,
     "metadata": {},
     "output_type": "execute_result"
    }
   ],
   "source": [
    "fc.avo"
   ]
  },
  {
   "cell_type": "markdown",
   "id": "f903c1d9",
   "metadata": {},
   "source": [
    "It works fine in functions, too:"
   ]
  },
  {
   "cell_type": "code",
   "execution_count": 4,
   "id": "c9683bd0",
   "metadata": {},
   "outputs": [
    {
     "name": "stdout",
     "output_type": "stream",
     "text": [
      "The avogadro number is  6.02214e+23\n"
     ]
    }
   ],
   "source": [
    "def func():\n",
    "    print(\"The avogadro number is \", fc.avo)\n",
    "    \n",
    "func()"
   ]
  },
  {
   "cell_type": "markdown",
   "id": "9da74d21",
   "metadata": {},
   "source": [
    "To get the value of some attribute of the class, it is a ***very good practice*** to define a function within the class that returns the value of the wanted attribute. A function within a class is called *method*:"
   ]
  },
  {
   "cell_type": "code",
   "execution_count": 5,
   "id": "e508ca85",
   "metadata": {},
   "outputs": [],
   "source": [
    "class constant_class():\n",
    "    def __init__(self):\n",
    "       self.h=6.62607e-34      # Planck\n",
    "       self.k=1.38065e-23      # Boltzmann\n",
    "       self.avo=6.02214e23     # Avogadro\n",
    "       self.R=self.avo*self.k  # Gas constant\n",
    "        \n",
    "    def get_avogadro(self):\n",
    "        return self.avo\n",
    "    \n",
    "    def get_boltzmann(self):\n",
    "        return self.k\n",
    "    \n",
    "    def get_planck(self):\n",
    "        return self.h\n",
    "    \n",
    "    def get_gas(self):\n",
    "        return self.R\n",
    "    \n",
    "fc=constant_class()"
   ]
  },
  {
   "cell_type": "markdown",
   "id": "399a7c6f",
   "metadata": {},
   "source": [
    "Now, wanting for instance the value of the gas constant, you can use the method *get_gas*:"
   ]
  },
  {
   "cell_type": "code",
   "execution_count": 6,
   "id": "e8f4121b",
   "metadata": {},
   "outputs": [
    {
     "data": {
      "text/plain": [
       "8.314467591"
      ]
     },
     "execution_count": 6,
     "metadata": {},
     "output_type": "execute_result"
    }
   ],
   "source": [
    "fc.get_gas()"
   ]
  },
  {
   "cell_type": "markdown",
   "id": "03a08822",
   "metadata": {},
   "source": [
    "You could also define a method *get_constant* that requires the name of the constant to be retrieved:"
   ]
  },
  {
   "cell_type": "code",
   "execution_count": 7,
   "id": "1061aef8",
   "metadata": {},
   "outputs": [],
   "source": [
    "class constant_class():\n",
    "    def __init__(self):\n",
    "       self.h=6.62607e-34      # Planck\n",
    "       self.k=1.38065e-23      # Boltzmann\n",
    "       self.avo=6.02214e23     # Avogadro\n",
    "       self.R=self.avo*self.k  # Gas constant\n",
    "        \n",
    "    def get_avogadro(self):\n",
    "        return self.avo\n",
    "    \n",
    "    def get_boltzmann(self):\n",
    "        return self.k\n",
    "    \n",
    "    def get_planck(self):\n",
    "        return self.h\n",
    "    \n",
    "    def get_gas(self):\n",
    "        return self.R\n",
    "    \n",
    "    def get_constant(self, const):      \n",
    "        if const=='avogadro':\n",
    "            return self.avo\n",
    "        elif const=='boltzmann':\n",
    "            return self.k\n",
    "        elif const=='planck':\n",
    "            return self.h\n",
    "        elif const=='gas':\n",
    "            return self.R\n",
    "        else:\n",
    "            print(\"Unknown constant \", const)\n",
    "              \n",
    "    \n",
    "fc=constant_class()"
   ]
  },
  {
   "cell_type": "markdown",
   "id": "060107ba",
   "metadata": {},
   "source": [
    "For instance:"
   ]
  },
  {
   "cell_type": "code",
   "execution_count": 8,
   "id": "2d08716b",
   "metadata": {},
   "outputs": [
    {
     "data": {
      "text/plain": [
       "8.314467591"
      ]
     },
     "execution_count": 8,
     "metadata": {},
     "output_type": "execute_result"
    }
   ],
   "source": [
    "fc.get_constant('gas')"
   ]
  },
  {
   "cell_type": "markdown",
   "id": "e8f9a490",
   "metadata": {},
   "source": [
    "Now, those constant are stored in SI units... but you might want them in some different units! For instance, the gas constant is stored in $m^3 Pa\\ /\\ mol K$, and you may want it in $\\ell atm\\ / mole K$. \n",
    "\n",
    "You need a conversion factor.\n",
    "\n",
    "So: \n",
    "\n",
    "- start by defining, in *init*, the variable *self.R_unit = 1.* This is the factor used to convert the value of your constant;\n",
    "- modify each function returning the value of *R* (*R* multiplied by such conversion factor);\n",
    "- define the function *set_unit* that *asks* for the constant and the type of units wanted."
   ]
  },
  {
   "cell_type": "code",
   "execution_count": 9,
   "id": "cffaba10",
   "metadata": {},
   "outputs": [],
   "source": [
    "class constant_class():\n",
    "    def __init__(self):\n",
    "       self.h=6.62607e-34      # Planck\n",
    "       self.k=1.38065e-23      # Boltzmann\n",
    "       self.avo=6.02214e23     # Avogadro\n",
    "       self.R=self.avo*self.k  # Gas constant\n",
    "       \n",
    "       self.R_unit=1.\n",
    "        \n",
    "    def get_avogadro(self):\n",
    "        return self.avo\n",
    "    \n",
    "    def get_boltzmann(self):\n",
    "        return self.k\n",
    "    \n",
    "    def get_planck(self):\n",
    "        return self.h\n",
    "    \n",
    "    def get_gas(self):\n",
    "        return self.R*self.R_unit\n",
    "    \n",
    "    def get_constant(self, const):      \n",
    "        if const=='avogadro':\n",
    "            return self.avo\n",
    "        elif const=='boltzmann':\n",
    "            return self.k\n",
    "        elif const=='planck':\n",
    "            return self.h\n",
    "        elif const=='gas':\n",
    "            return self.R*self.R_unit\n",
    "        else:\n",
    "            print(\"Unknown constant \", const)           \n",
    "            \n",
    "    def set_units(self, const, system='SI'):\n",
    "        if const=='gas':\n",
    "           if system =='SI': \n",
    "              self.R_unit=1.\n",
    "           elif system == 'litre_atm':\n",
    "              self.R_unit = 1e3/101325                 \n",
    "              \n",
    "    \n",
    "fc=constant_class()"
   ]
  },
  {
   "cell_type": "markdown",
   "id": "cf3d31f6",
   "metadata": {},
   "source": [
    "Now, ask for *R*:"
   ]
  },
  {
   "cell_type": "code",
   "execution_count": 10,
   "id": "55ee1072",
   "metadata": {},
   "outputs": [
    {
     "data": {
      "text/plain": [
       "8.314467591"
      ]
     },
     "execution_count": 10,
     "metadata": {},
     "output_type": "execute_result"
    }
   ],
   "source": [
    "fc.get_gas()"
   ]
  },
  {
   "cell_type": "markdown",
   "id": "8d7dbd67",
   "metadata": {},
   "source": [
    "Change units and ask for the constant again:"
   ]
  },
  {
   "cell_type": "code",
   "execution_count": 11,
   "id": "d6c0d723",
   "metadata": {},
   "outputs": [
    {
     "data": {
      "text/plain": [
       "0.08205741515914138"
      ]
     },
     "execution_count": 11,
     "metadata": {},
     "output_type": "execute_result"
    }
   ],
   "source": [
    "fc.set_units('gas', system='litre_atm')\n",
    "fc.get_gas()"
   ]
  },
  {
   "cell_type": "code",
   "execution_count": 12,
   "id": "58db90c2",
   "metadata": {},
   "outputs": [
    {
     "data": {
      "text/plain": [
       "0.08205741515914138"
      ]
     },
     "execution_count": 12,
     "metadata": {},
     "output_type": "execute_result"
    }
   ],
   "source": [
    "fc.get_gas()"
   ]
  },
  {
   "cell_type": "markdown",
   "id": "1cf46752",
   "metadata": {},
   "source": [
    "Note that if you directly access the attribute *R* of the class, instead of using the method *get_gas*, you get the value in SI units:"
   ]
  },
  {
   "cell_type": "code",
   "execution_count": 13,
   "id": "64f780b1",
   "metadata": {},
   "outputs": [
    {
     "data": {
      "text/plain": [
       "8.314467591"
      ]
     },
     "execution_count": 13,
     "metadata": {},
     "output_type": "execute_result"
    }
   ],
   "source": [
    "fc.R"
   ]
  },
  {
   "cell_type": "markdown",
   "id": "7c0eb37b",
   "metadata": {},
   "source": [
    "Of course there can be infinite ways to change the behaviour of the class, by adding other methods of modifying the existing ones. For instance, analyze this:"
   ]
  },
  {
   "cell_type": "code",
   "execution_count": 21,
   "id": "a0955b93",
   "metadata": {},
   "outputs": [],
   "source": [
    "class constant_class():\n",
    "    def __init__(self):\n",
    "       self.h=6.62607e-34      # Planck\n",
    "       self.k=1.38065e-23      # Boltzmann\n",
    "       self.avo=6.02214e23     # Avogadro\n",
    "       self.R=self.avo*self.k  # Gas constant\n",
    "       \n",
    "       self.R_unit=1.\n",
    "        \n",
    "    def get_avogadro(self):\n",
    "        return self.avo\n",
    "    \n",
    "    def get_boltzmann(self):\n",
    "        return self.k\n",
    "    \n",
    "    def get_planck(self):\n",
    "        return self.h\n",
    "    \n",
    "    def get_gas(self, units='default'):\n",
    "        if units=='default':\n",
    "           return self.R*self.R_unit\n",
    "        else:\n",
    "           self.set_units(const='gas', units=units)\n",
    "           R_value=self.R*self.R_unit\n",
    "           self.set_units(const='gas')\n",
    "           return R_value\n",
    "    \n",
    "    def get_constant(self, const, units='SI'):      \n",
    "        if const=='avogadro':\n",
    "            return self.avo\n",
    "        elif const=='boltzmann':\n",
    "            return self.k\n",
    "        elif const=='planck':\n",
    "            return self.h\n",
    "        elif const=='gas':\n",
    "            return self.get_gas(units)\n",
    "        else:\n",
    "            print(\"Unknown constant \", const)           \n",
    "            \n",
    "    def set_units(self, const, units='SI'):\n",
    "        if const=='gas':\n",
    "           if units =='SI': \n",
    "              self.R_unit=1.\n",
    "           elif units == 'litre_atm':\n",
    "              self.R_unit = 1e3/101325                 \n",
    "              \n",
    "    \n",
    "fc=constant_class()"
   ]
  },
  {
   "cell_type": "code",
   "execution_count": 15,
   "id": "89ca9c95",
   "metadata": {},
   "outputs": [
    {
     "name": "stdout",
     "output_type": "stream",
     "text": [
      "8.314467591\n",
      "0.08205741515914138\n",
      "8.314467591\n",
      "0.08205741515914138\n"
     ]
    }
   ],
   "source": [
    "print(fc.get_gas())\n",
    "print(fc.get_gas(units='litre_atm'))\n",
    "print(fc.get_constant('gas'))\n",
    "print(fc.get_constant('gas', units='litre_atm'))"
   ]
  },
  {
   "cell_type": "markdown",
   "id": "d477a35a",
   "metadata": {},
   "source": [
    "With this implementation you can also change the default conversion factor for the gas constant:"
   ]
  },
  {
   "cell_type": "code",
   "execution_count": 16,
   "id": "b51d15c0",
   "metadata": {},
   "outputs": [
    {
     "data": {
      "text/plain": [
       "0.08205741515914138"
      ]
     },
     "execution_count": 16,
     "metadata": {},
     "output_type": "execute_result"
    }
   ],
   "source": [
    "fc.set_units(const='gas', units='litre_atm')\n",
    "fc.get_gas()"
   ]
  },
  {
   "cell_type": "markdown",
   "id": "3dd51214",
   "metadata": {},
   "source": [
    "Never forget to *document* your class and to extensively test it! "
   ]
  },
  {
   "cell_type": "markdown",
   "id": "608763e8",
   "metadata": {},
   "source": [
    "Classes can be used to store variables at the global level, that can be modified within functions without the need to use *global* declaration, better by using the appropriate methods provided for the purpose. This is a *good programming practice* that can avoid a lot of mistakes.  "
   ]
  },
  {
   "cell_type": "code",
   "execution_count": 17,
   "id": "72ff726e",
   "metadata": {},
   "outputs": [
    {
     "name": "stdout",
     "output_type": "stream",
     "text": [
      "value of par:  2\n"
     ]
    }
   ],
   "source": [
    "class parameter_class():\n",
    "      def __init__(self, val=1):\n",
    "          self.par=val\n",
    "      def set_value(self, val):\n",
    "          self.par=val\n",
    "      def get_value(self):\n",
    "          return self.par\n",
    "        \n",
    "par=parameter_class(val=2)\n",
    "\n",
    "print(\"value of par: \", par.par)"
   ]
  },
  {
   "cell_type": "code",
   "execution_count": 18,
   "id": "39ed8de0",
   "metadata": {},
   "outputs": [
    {
     "name": "stdout",
     "output_type": "stream",
     "text": [
      "Before calling func:    2\n",
      "Inside func:            5\n",
      "After func was called:  5\n"
     ]
    }
   ],
   "source": [
    "def func():\n",
    "    par.set_value(5)\n",
    "    print(\"Inside func:           \", par.get_value())\n",
    "    \n",
    "print(\"Before calling func:   \", par.get_value())\n",
    "func()\n",
    "print(\"After func was called: \", par.get_value())"
   ]
  },
  {
   "cell_type": "markdown",
   "id": "6f2da32b",
   "metadata": {},
   "source": [
    "Now, reconsider the factorial function that was implemented by using a *class*:"
   ]
  },
  {
   "cell_type": "code",
   "execution_count": 19,
   "id": "49257e97",
   "metadata": {},
   "outputs": [],
   "source": [
    "class factorial_class():\n",
    "    def __init__(self):\n",
    "        self.fact=1\n",
    "        \n",
    "    def set_init(self):\n",
    "        self.fact=1\n",
    "        \n",
    "    def factorial(self, n, prn=False):\n",
    "        self.set_init()\n",
    "        self.fact_rec(n)\n",
    "        if prn:\n",
    "           print(\"The factorial of %3i  is %6i\" % (n, self.fact))\n",
    "        else:\n",
    "           return self.fact\n",
    "    \n",
    "    def fact_rec(self, b):            # <--- recursive function\n",
    "        self.fact=b*self.fact\n",
    "        b=b-1\n",
    "        if b == 1:\n",
    "           return \n",
    "        else:\n",
    "           self.fact_rec(b)\n",
    "    \n",
    "ff=factorial_class()"
   ]
  },
  {
   "cell_type": "code",
   "execution_count": 20,
   "id": "f692a700",
   "metadata": {},
   "outputs": [
    {
     "name": "stdout",
     "output_type": "stream",
     "text": [
      "The factorial of   8  is  40320\n"
     ]
    }
   ],
   "source": [
    "ff.factorial(8, prn=True)"
   ]
  }
 ],
 "metadata": {
  "kernelspec": {
   "display_name": "Python 3 (ipykernel)",
   "language": "python",
   "name": "python3"
  },
  "language_info": {
   "codemirror_mode": {
    "name": "ipython",
    "version": 3
   },
   "file_extension": ".py",
   "mimetype": "text/x-python",
   "name": "python",
   "nbconvert_exporter": "python",
   "pygments_lexer": "ipython3",
   "version": "3.8.5"
  },
  "latex_envs": {
   "LaTeX_envs_menu_present": true,
   "autoclose": false,
   "autocomplete": true,
   "bibliofile": "biblio.bib",
   "cite_by": "apalike",
   "current_citInitial": 1,
   "eqLabelWithNumbers": true,
   "eqNumInitial": 1,
   "hotkeys": {
    "equation": "Ctrl-E",
    "itemize": "Ctrl-I"
   },
   "labels_anchors": false,
   "latex_user_defs": false,
   "report_style_numbering": false,
   "user_envs_cfg": false
  }
 },
 "nbformat": 4,
 "nbformat_minor": 5
}
